{
 "cells": [
  {
   "cell_type": "markdown",
   "id": "2ce1a051",
   "metadata": {
    "papermill": {
     "duration": 0.006496,
     "end_time": "2024-03-10T18:18:35.037364",
     "exception": false,
     "start_time": "2024-03-10T18:18:35.030868",
     "status": "completed"
    },
    "tags": []
   },
   "source": [
    "# CWT hyperparameters tuning\n",
    "\n",
    "Use GPU T4 x 2  \n",
    "When using GP100, there are XLA errors.  \n",
    "\n",
    "5 channels (LT, RT, LP, RP, C).\n",
    "\n",
    "Implementing tf.keras.metrics.KLDivergence().\n",
    "\n"
   ]
  },
  {
   "cell_type": "code",
   "execution_count": 19,
   "id": "2a159655",
   "metadata": {},
   "outputs": [],
   "source": [
    "import numpy as np\n",
    "import pandas as pd\n",
    "import tensorflow as tf\n",
    "import keras\n",
    "from keras import layers, regularizers\n",
    "import keras_tuner as kt\n",
    "import sys\n",
    "import os\n",
    "\n",
    "\n",
    "# ----------------------------------------\n",
    "# Flags for working on my different machines.\n",
    "# flag_kaggle = True\n",
    "flag_FW = True\n",
    "# flag_LN = True\n",
    "\n",
    "try:\n",
    "    if flag_kaggle:\n",
    "        sys.path.insert(0, '/kaggle/input/hms-lib')\n",
    "        base_dir = '/kaggle/input/hms-harmful-brain-activity-classification'\n",
    "        devset_dir = '/kaggle/input/hms-cwt-scalograms-single-numpy-v1'\n",
    "        output_dir = ''\n",
    "except:\n",
    "    pass \n",
    "\n",
    "try:\n",
    "    if flag_FW:\n",
    "        sys.path.insert(0, '../lib')\n",
    "        base_dir = '../../kaggle_data/hms'\n",
    "        devset_dir = '../data'\n",
    "        output_dir = 'results/'\n",
    "except:\n",
    "    pass \n",
    "\n",
    "try:\n",
    "    if flag_LN:\n",
    "        sys.path.insert(0, '../lib')\n",
    "        base_dir = '../../data/hms'\n",
    "        devset_dir = '../data'\n",
    "        output_dir = 'results/'\n",
    "except:\n",
    "    pass \n",
    "# ----------------------------------------\n",
    "\n",
    "from KLmetric import score\n",
    "\n",
    "# path_train = f'{devset_dir}/05_single_cwt_v1_train.npy'\n",
    "# path_train_items = f'{devset_dir}/05_single_cwt_v1_train_items.npy'\n",
    "# path_val = f'{devset_dir}/05_single_cwt_v1_val.npy'\n",
    "# path_val_items = f'{devset_dir}/05_single_cwt_v1_val_items.npy'\n",
    "# path_test = f'{devset_dir}/05_single_cwt_v1_test.npy'\n",
    "# path_test_items = f'{devset_dir}/05_single_cwt_v1_test_items.npy'\n",
    "\n",
    "path_train = f'{devset_dir}/05_reduced_single_cwt_v1_train.npy'\n",
    "path_train_items = f'{devset_dir}/05_reduced_single_cwt_v1_train_items.npy'\n",
    "path_val = f'{devset_dir}/05_reduced_single_cwt_v1_val.npy'\n",
    "path_val_items = f'{devset_dir}/05_reduced_single_cwt_v1_val_items.npy'\n",
    "path_test = f'{devset_dir}/05_reduced_single_cwt_v1_test.npy'\n",
    "path_test_items = f'{devset_dir}/05_reduced_single_cwt_v1_test_items.npy'\n"
   ]
  },
  {
   "cell_type": "markdown",
   "id": "3e0cf1c6",
   "metadata": {
    "papermill": {
     "duration": 0.005678,
     "end_time": "2024-03-10T18:18:56.105732",
     "exception": false,
     "start_time": "2024-03-10T18:18:56.100054",
     "status": "completed"
    },
    "tags": []
   },
   "source": [
    "## Data generators"
   ]
  },
  {
   "cell_type": "code",
   "execution_count": 20,
   "id": "91fdf23d",
   "metadata": {
    "execution": {
     "iopub.execute_input": "2024-03-10T18:18:56.118838Z",
     "iopub.status.busy": "2024-03-10T18:18:56.118505Z",
     "iopub.status.idle": "2024-03-10T18:18:56.131377Z",
     "shell.execute_reply": "2024-03-10T18:18:56.130470Z"
    },
    "papermill": {
     "duration": 0.021808,
     "end_time": "2024-03-10T18:18:56.133354",
     "exception": false,
     "start_time": "2024-03-10T18:18:56.111546",
     "status": "completed"
    },
    "tags": []
   },
   "outputs": [],
   "source": [
    "#\n",
    "# Data generator for training.\n",
    "#\n",
    "# coefficients of cwt's arrays\n",
    "# 5 channels (LP, RP, LT, RP, C)\n",
    "#\n",
    "\n",
    "class DataGenerator(keras.utils.Sequence):\n",
    "    'Generates data for Keras'\n",
    "    def __init__(self, path_to_items, path_to_data, batch_size=32, n_classes=6, shuffle=True):\n",
    "        ''' Initialization\n",
    "        item: [eeg_id, eeg_sub_id, idx in sgrams (1st index), target,\n",
    "        seizure_vote, lpd_vote, gpd_vote, lrda_vote,\n",
    "        grda_vote, other_vote]\n",
    "        '''\n",
    "        self.n_channels = 5\n",
    "        # self.n_freqs = 40\n",
    "\n",
    "        self.data = np.load(path_to_data)\n",
    "        self.items = np.load(path_to_items)\n",
    "        self.dim = (self.data.shape[1], self.data.shape[2])\n",
    "        self.batch_size = batch_size\n",
    "        self.len = self.data.shape[0]\n",
    "        self.n_classes = n_classes\n",
    "        self.shuffle = shuffle\n",
    "        self.on_epoch_end()\n",
    "\n",
    "    def __len__(self):\n",
    "        'Denotes the number of batches per epoch'\n",
    "        return int(np.ceil(self.len / self.batch_size))\n",
    "\n",
    "    def __getitem__(self, index):\n",
    "        'Generate one batch of data'\n",
    "        # Generate indexes of the batch\n",
    "        indexes = self.indexes[index*self.batch_size:(index+1)*self.batch_size]\n",
    "\n",
    "        # Generate data\n",
    "        X, y = self.__data_generation(indexes)\n",
    "\n",
    "        return X, y\n",
    "\n",
    "    def get_dim(self):\n",
    "        'Dimensions for the input layer.'\n",
    "        return (self.dim[0], self.dim[1], self.n_channels)\n",
    "\n",
    "    def on_epoch_end(self):\n",
    "        'Updates indexes after each epoch'\n",
    "        self.indexes = np.arange(self.len)\n",
    "        if self.shuffle == True:\n",
    "            np.random.shuffle(self.indexes)\n",
    "\n",
    "    def __data_generation(self, indexes):\n",
    "        'Generates data containing batch_size samples' # X : (n_samples, *dim, n_channels)\n",
    "        # Initialization\n",
    "        true_size = len(indexes)\n",
    "        X = np.empty((true_size, *self.dim, self.n_channels))\n",
    "        y = np.empty((true_size, self.n_classes), dtype=float)\n",
    "\n",
    "        # Generate data\n",
    "        for i, idx in enumerate(indexes):\n",
    "            item = self.items[idx]\n",
    "            # print(item)  # Uncomment for testing.\n",
    "            X[i,:,:,:] = self.data[np.int32(item[2]), :, :, :]\n",
    "            # Store solution\n",
    "            y[i,:] = item[-6:]\n",
    "\n",
    "        return X, y\n",
    "\n",
    "\n",
    "#\n",
    "# Test Data generator for predicting\n",
    "# \n",
    "\n",
    "class TestDataGenerator(keras.utils.Sequence):\n",
    "    'Generates data for Keras'\n",
    "    def __init__(self, path_to_items, path_to_data, batch_size=32, n_classes=6, shuffle=False):\n",
    "        ''' Initialization\n",
    "        item: [eeg_id, eeg_sub_id, idx in sgrams (1st index), target,\n",
    "        seizure_vote, lpd_vote, gpd_vote, lrda_vote,\n",
    "        grda_vote, other_vote]\n",
    "        '''\n",
    "        self.n_channels = 5\n",
    "        self.data = np.load(path_to_data)\n",
    "        self.items = np.load(path_to_items)\n",
    "        self.dim = (self.data.shape[1], self.data.shape[2])\n",
    "        self.batch_size = batch_size\n",
    "        self.len = self.data.shape[0]\n",
    "        self.n_classes = n_classes\n",
    "        self.shuffle = shuffle\n",
    "        self.on_epoch_end()\n",
    "\n",
    "    def __len__(self):\n",
    "        'Denotes the number of batches per epoch'\n",
    "        return int(np.ceil(self.len / self.batch_size))\n",
    "\n",
    "    def __getitem__(self, index):\n",
    "        'Generate one batch of data'\n",
    "        # Generate indexes of the batch\n",
    "        indexes = self.indexes[index*self.batch_size:(index+1)*self.batch_size]\n",
    "\n",
    "        # Generate data\n",
    "        X = self.__data_generation(indexes)\n",
    "\n",
    "        return X\n",
    "\n",
    "    def get_dim(self):\n",
    "        'Dimensions for the input layer.'\n",
    "        return (self.dim[0], self.dim[1], self.n_channels)\n",
    "\n",
    "    def on_epoch_end(self):\n",
    "        'Updates indexes after each epoch'\n",
    "        self.indexes = np.arange(self.len)\n",
    "        # pass \n",
    "        \n",
    "    def __data_generation(self, indexes):\n",
    "        'Generates data containing batch_size samples' # X : (n_samples, *dim, n_channels)\n",
    "        # Initialization\n",
    "        true_size = len(indexes)\n",
    "        X = np.empty((true_size, *self.dim, self.n_channels))\n",
    "\n",
    "        # Generate data\n",
    "        for i, idx in enumerate(indexes):\n",
    "            item = self.items[idx]\n",
    "            # print(item)  # Uncomment for testing.\n",
    "            X[i,:,:,:] = self.data[np.int32(item[2]), :, :, :]\n",
    "\n",
    "        return X\n"
   ]
  },
  {
   "cell_type": "code",
   "execution_count": 6,
   "id": "97745c64",
   "metadata": {},
   "outputs": [
    {
     "name": "stdout",
     "output_type": "stream",
     "text": [
      "Observations in training set: 512\n",
      "Observations in validation set: 128\n"
     ]
    }
   ],
   "source": [
    "# Parameters\n",
    "params = {\n",
    "    'batch_size': 32,\n",
    "    'n_classes': 6,\n",
    "    'shuffle': True\n",
    "    }\n",
    "\n",
    "training_generator = DataGenerator(path_train_items, path_train , **params)\n",
    "validation_generator = DataGenerator(path_val_items, path_val, **params)\n",
    "\n",
    "print(\"Observations in training set:\", training_generator.__len__()*params['batch_size'])\n",
    "print(\"Observations in validation set:\", validation_generator.__len__()*params['batch_size'])\n"
   ]
  },
  {
   "cell_type": "markdown",
   "id": "e3b7e39b",
   "metadata": {},
   "source": [
    "## HP tuning"
   ]
  },
  {
   "cell_type": "code",
   "execution_count": 7,
   "id": "f69b4991",
   "metadata": {},
   "outputs": [],
   "source": [
    "input_shape = training_generator.get_dim()\n",
    "num_classes = 6\n",
    "\n",
    "def model_builder(hp):\n",
    "    model = keras.Sequential()\n",
    "    model.add(keras.Input(shape=input_shape))\n",
    "\n",
    "    for i in range(hp.Int(\"num_layers\", 1, 3)):\n",
    "        model.add(layers.Conv2D(32, 3, activation='relu', padding=\"same\"))\n",
    "    \n",
    "    model.add(layers.MaxPooling2D((3, 3)))\n",
    "    model.add(layers.BatchNormalization())\n",
    "    model.add(layers.Dropout(rate=0.2))\n",
    "\n",
    "    model.add(layers.Flatten())\n",
    "    model.add(layers.Dense(num_classes, activation='softmax'))\n",
    "\n",
    "\n",
    "\n",
    "    # model.add(layers.Flatten())\n",
    "    # # Tune the number of layers.\n",
    "    # for i in range(hp.Int(\"num_layers\", 1, 3)):\n",
    "    #     model.add(\n",
    "    #         layers.Dense(\n",
    "    #             # Tune number of units separately.\n",
    "    #             units=hp.Int(f\"units_{i}\", min_value=32, max_value=512, step=32),\n",
    "    #             activation=hp.Choice(\"activation\", [\"relu\", \"tanh\"]),\n",
    "    #         )\n",
    "    #     )\n",
    "    # if hp.Boolean(\"dropout\"):\n",
    "    #     model.add(layers.Dropout(rate=0.25))\n",
    "    # model.add(layers.Dense(10, activation=\"softmax\"))\n",
    "    # # learning_rate = hp.Float(\"lr\", min_value=1e-4, max_value=1e-2, sampling=\"log\")\n",
    "    # learning_rate = hp.Choice('learning_rate', values=[1e-2, 1e-3, 1e-4])\n",
    "    learning_rate = 0.01\n",
    "\n",
    "    opt = keras.optimizers.SGD(\n",
    "        learning_rate=learning_rate,\n",
    "        momentum=0.01,\n",
    "        )\n",
    "    \n",
    "    model.compile(\n",
    "        optimizer=opt,\n",
    "        loss=tf.keras.losses.KLDivergence(),\n",
    "        metrics=[tf.keras.metrics.KLDivergence()])\n",
    "\n",
    "    return model\n"
   ]
  },
  {
   "cell_type": "code",
   "execution_count": 8,
   "id": "1858c6be",
   "metadata": {},
   "outputs": [
    {
     "name": "stdout",
     "output_type": "stream",
     "text": [
      "Reloading Tuner from results/cwt_v1/tuner0.json\n"
     ]
    }
   ],
   "source": [
    "tuner = kt.Hyperband(model_builder,\n",
    "                    #  objective='val_accuracy',\n",
    "                     objective=kt.Objective(\"val_kullback_leibler_divergence\", direction=\"min\"),\n",
    "                     max_epochs=3,\n",
    "                     factor=3,\n",
    "                     directory='results',\n",
    "                     project_name='cwt_v1')\n"
   ]
  },
  {
   "cell_type": "code",
   "execution_count": null,
   "id": "56942957",
   "metadata": {},
   "outputs": [],
   "source": [
    "# tuner = kt.RandomSearch(\n",
    "#     hypermodel=model_builder,\n",
    "#     # objective=\"val_accuracy\",\n",
    "#     objective=kt.Objective(\"val_mean_absolute_error\", direction=\"min\"),\n",
    "#     max_trials=3,\n",
    "#     executions_per_trial=2,\n",
    "#     overwrite=True,\n",
    "#     directory=\"my_dir\",\n",
    "#     project_name=\"helloworld\",\n",
    "# )\n"
   ]
  },
  {
   "cell_type": "code",
   "execution_count": 9,
   "id": "2d6e2c29",
   "metadata": {},
   "outputs": [
    {
     "name": "stdout",
     "output_type": "stream",
     "text": [
      "Search space summary\n",
      "Default search space size: 4\n",
      "num_layers (Int)\n",
      "{'default': None, 'conditions': [], 'min_value': 1, 'max_value': 3, 'step': 1, 'sampling': 'linear'}\n",
      "units_0 (Int)\n",
      "{'default': None, 'conditions': [], 'min_value': 32, 'max_value': 64, 'step': 32, 'sampling': 'linear'}\n",
      "units_1 (Int)\n",
      "{'default': None, 'conditions': [], 'min_value': 32, 'max_value': 64, 'step': 32, 'sampling': 'linear'}\n",
      "units_2 (Int)\n",
      "{'default': None, 'conditions': [], 'min_value': 32, 'max_value': 64, 'step': 32, 'sampling': 'linear'}\n"
     ]
    }
   ],
   "source": [
    "tuner.search_space_summary()"
   ]
  },
  {
   "cell_type": "code",
   "execution_count": 10,
   "id": "44fc12cd",
   "metadata": {},
   "outputs": [],
   "source": [
    "stop_early = tf.keras.callbacks.EarlyStopping(monitor='val_kullback_leibler_divergence', patience=5)\n"
   ]
  },
  {
   "cell_type": "code",
   "execution_count": 11,
   "id": "f70a96d9",
   "metadata": {},
   "outputs": [
    {
     "name": "stdout",
     "output_type": "stream",
     "text": [
      "Trial 26 Complete [00h 00m 56s]\n",
      "val_kullback_leibler_divergence: 1.3904061317443848\n",
      "\n",
      "Best val_kullback_leibler_divergence So Far: 1.366502285003662\n",
      "Total elapsed time: 19h 23m 12s\n"
     ]
    }
   ],
   "source": [
    "tuner.search(training_generator, epochs=3, validation_data=validation_generator, callbacks=[stop_early])"
   ]
  },
  {
   "cell_type": "code",
   "execution_count": 12,
   "id": "14f50be7",
   "metadata": {},
   "outputs": [
    {
     "name": "stdout",
     "output_type": "stream",
     "text": [
      "Model: \"sequential\"\n",
      "_________________________________________________________________\n",
      " Layer (type)                Output Shape              Param #   \n",
      "=================================================================\n",
      " conv2d (Conv2D)             (None, 49, 400, 32)       1472      \n",
      "                                                                 \n",
      " conv2d_1 (Conv2D)           (None, 49, 400, 32)       9248      \n",
      "                                                                 \n",
      " max_pooling2d (MaxPooling2  (None, 16, 133, 32)       0         \n",
      " D)                                                              \n",
      "                                                                 \n",
      " batch_normalization (Batch  (None, 16, 133, 32)       128       \n",
      " Normalization)                                                  \n",
      "                                                                 \n",
      " dropout (Dropout)           (None, 16, 133, 32)       0         \n",
      "                                                                 \n",
      " flatten (Flatten)           (None, 68096)             0         \n",
      "                                                                 \n",
      " dense (Dense)               (None, 6)                 408582    \n",
      "                                                                 \n",
      "=================================================================\n",
      "Total params: 419430 (1.60 MB)\n",
      "Trainable params: 419366 (1.60 MB)\n",
      "Non-trainable params: 64 (256.00 Byte)\n",
      "_________________________________________________________________\n"
     ]
    }
   ],
   "source": [
    "# Get the top 2 models.\n",
    "models = tuner.get_best_models(num_models=2)\n",
    "best_model = models[0]\n",
    "best_model.summary()\n"
   ]
  },
  {
   "cell_type": "code",
   "execution_count": 13,
   "id": "9712704a",
   "metadata": {},
   "outputs": [
    {
     "name": "stdout",
     "output_type": "stream",
     "text": [
      "Results summary\n",
      "Results in results/cwt_v1\n",
      "Showing 10 best trials\n",
      "Objective(name=\"val_kullback_leibler_divergence\", direction=\"min\")\n",
      "\n",
      "Trial 0012 summary\n",
      "Hyperparameters:\n",
      "num_layers: 2\n",
      "units_0: 64\n",
      "units_1: 64\n",
      "units_2: 32\n",
      "tuner/epochs: 4\n",
      "tuner/initial_epoch: 2\n",
      "tuner/bracket: 2\n",
      "tuner/round: 1\n",
      "tuner/trial_id: 0003\n",
      "Score: 1.366502285003662\n",
      "\n",
      "Trial 0020 summary\n",
      "Hyperparameters:\n",
      "num_layers: 2\n",
      "units_0: 32\n",
      "units_1: 64\n",
      "units_2: 64\n",
      "tuner/epochs: 10\n",
      "tuner/initial_epoch: 4\n",
      "tuner/bracket: 1\n",
      "tuner/round: 1\n",
      "tuner/trial_id: 0018\n",
      "Score: 1.3739118576049805\n",
      "\n",
      "Trial 0024 summary\n",
      "Hyperparameters:\n",
      "num_layers: 2\n",
      "units_0: 64\n",
      "units_1: 32\n",
      "units_2: 32\n",
      "tuner/epochs: 10\n",
      "tuner/initial_epoch: 0\n",
      "tuner/bracket: 0\n",
      "tuner/round: 0\n",
      "Score: 1.3743195533752441\n",
      "\n",
      "Trial 0018 summary\n",
      "Hyperparameters:\n",
      "num_layers: 2\n",
      "units_0: 32\n",
      "units_1: 64\n",
      "units_2: 64\n",
      "tuner/epochs: 4\n",
      "tuner/initial_epoch: 0\n",
      "tuner/bracket: 1\n",
      "tuner/round: 0\n",
      "Score: 1.3895821571350098\n",
      "\n",
      "Trial 0025 summary\n",
      "Hyperparameters:\n",
      "num_layers: 3\n",
      "units_0: 64\n",
      "units_1: 64\n",
      "units_2: 64\n",
      "tuner/epochs: 10\n",
      "tuner/initial_epoch: 0\n",
      "tuner/bracket: 0\n",
      "tuner/round: 0\n",
      "Score: 1.3904061317443848\n",
      "\n",
      "Trial 0022 summary\n",
      "Hyperparameters:\n",
      "num_layers: 2\n",
      "units_0: 32\n",
      "units_1: 64\n",
      "units_2: 32\n",
      "tuner/epochs: 10\n",
      "tuner/initial_epoch: 0\n",
      "tuner/bracket: 0\n",
      "tuner/round: 0\n",
      "Score: 1.4005005359649658\n",
      "\n",
      "Trial 0013 summary\n",
      "Hyperparameters:\n",
      "num_layers: 3\n",
      "units_0: 32\n",
      "units_1: 64\n",
      "units_2: 64\n",
      "tuner/epochs: 4\n",
      "tuner/initial_epoch: 2\n",
      "tuner/bracket: 2\n",
      "tuner/round: 1\n",
      "tuner/trial_id: 0009\n",
      "Score: 1.4097822904586792\n",
      "\n",
      "Trial 0003 summary\n",
      "Hyperparameters:\n",
      "num_layers: 2\n",
      "units_0: 64\n",
      "units_1: 64\n",
      "units_2: 32\n",
      "tuner/epochs: 2\n",
      "tuner/initial_epoch: 0\n",
      "tuner/bracket: 2\n",
      "tuner/round: 0\n",
      "Score: 1.4117224216461182\n",
      "\n",
      "Trial 0009 summary\n",
      "Hyperparameters:\n",
      "num_layers: 3\n",
      "units_0: 32\n",
      "units_1: 64\n",
      "units_2: 64\n",
      "tuner/epochs: 2\n",
      "tuner/initial_epoch: 0\n",
      "tuner/bracket: 2\n",
      "tuner/round: 0\n",
      "Score: 1.4156745672225952\n",
      "\n",
      "Trial 0011 summary\n",
      "Hyperparameters:\n",
      "num_layers: 2\n",
      "units_0: 64\n",
      "units_1: 32\n",
      "units_2: 64\n",
      "tuner/epochs: 2\n",
      "tuner/initial_epoch: 0\n",
      "tuner/bracket: 2\n",
      "tuner/round: 0\n",
      "Score: 1.480099081993103\n"
     ]
    }
   ],
   "source": [
    "# tuner.results_summary()"
   ]
  },
  {
   "cell_type": "code",
   "execution_count": null,
   "id": "7f98ccc3",
   "metadata": {},
   "outputs": [],
   "source": []
  },
  {
   "cell_type": "code",
   "execution_count": null,
   "id": "99d24ac0",
   "metadata": {},
   "outputs": [],
   "source": []
  },
  {
   "cell_type": "code",
   "execution_count": null,
   "id": "dc0b2228",
   "metadata": {},
   "outputs": [],
   "source": []
  },
  {
   "cell_type": "code",
   "execution_count": null,
   "id": "46c131b8",
   "metadata": {},
   "outputs": [],
   "source": []
  },
  {
   "cell_type": "markdown",
   "id": "195946bc",
   "metadata": {},
   "source": [
    "## Retrain the model"
   ]
  },
  {
   "cell_type": "code",
   "execution_count": 16,
   "id": "b3e2ec34",
   "metadata": {},
   "outputs": [
    {
     "name": "stdout",
     "output_type": "stream",
     "text": [
      "Epoch 1/30\n",
      "16/16 [==============================] - 5s 306ms/step - loss: 5.6126 - kullback_leibler_divergence: 5.6126 - val_loss: 1.8444 - val_kullback_leibler_divergence: 1.8444\n",
      "Epoch 2/30\n",
      "16/16 [==============================] - 5s 303ms/step - loss: 1.8072 - kullback_leibler_divergence: 1.8072 - val_loss: 1.3983 - val_kullback_leibler_divergence: 1.3983\n",
      "Epoch 3/30\n",
      "16/16 [==============================] - 5s 292ms/step - loss: 0.5965 - kullback_leibler_divergence: 0.5965 - val_loss: 1.3819 - val_kullback_leibler_divergence: 1.3819\n",
      "Epoch 4/30\n",
      "16/16 [==============================] - 5s 299ms/step - loss: 0.3470 - kullback_leibler_divergence: 0.3470 - val_loss: 1.3814 - val_kullback_leibler_divergence: 1.3814\n",
      "Epoch 5/30\n",
      "16/16 [==============================] - 5s 288ms/step - loss: 0.3340 - kullback_leibler_divergence: 0.3340 - val_loss: 1.3704 - val_kullback_leibler_divergence: 1.3704\n",
      "Epoch 6/30\n",
      "16/16 [==============================] - 5s 299ms/step - loss: 0.2715 - kullback_leibler_divergence: 0.2715 - val_loss: 1.3569 - val_kullback_leibler_divergence: 1.3569\n",
      "Epoch 7/30\n",
      "16/16 [==============================] - 5s 303ms/step - loss: 0.2518 - kullback_leibler_divergence: 0.2518 - val_loss: 1.3787 - val_kullback_leibler_divergence: 1.3787\n",
      "Epoch 8/30\n",
      "16/16 [==============================] - 5s 315ms/step - loss: 0.2286 - kullback_leibler_divergence: 0.2286 - val_loss: 1.3557 - val_kullback_leibler_divergence: 1.3557\n",
      "Epoch 9/30\n",
      "16/16 [==============================] - 5s 311ms/step - loss: 0.2199 - kullback_leibler_divergence: 0.2199 - val_loss: 1.3864 - val_kullback_leibler_divergence: 1.3864\n",
      "Epoch 10/30\n",
      "16/16 [==============================] - 6s 381ms/step - loss: 0.2182 - kullback_leibler_divergence: 0.2182 - val_loss: 1.3357 - val_kullback_leibler_divergence: 1.3357\n",
      "Epoch 11/30\n",
      "16/16 [==============================] - 5s 306ms/step - loss: 0.1982 - kullback_leibler_divergence: 0.1982 - val_loss: 1.3526 - val_kullback_leibler_divergence: 1.3526\n",
      "Epoch 12/30\n",
      "16/16 [==============================] - 5s 334ms/step - loss: 0.1753 - kullback_leibler_divergence: 0.1753 - val_loss: 1.3428 - val_kullback_leibler_divergence: 1.3428\n",
      "Epoch 13/30\n",
      "16/16 [==============================] - 5s 308ms/step - loss: 0.1521 - kullback_leibler_divergence: 0.1521 - val_loss: 1.3910 - val_kullback_leibler_divergence: 1.3910\n",
      "Epoch 14/30\n",
      "16/16 [==============================] - 5s 303ms/step - loss: 0.1630 - kullback_leibler_divergence: 0.1630 - val_loss: 1.3578 - val_kullback_leibler_divergence: 1.3578\n",
      "Epoch 15/30\n",
      "16/16 [==============================] - 5s 294ms/step - loss: 0.1443 - kullback_leibler_divergence: 0.1443 - val_loss: 1.3411 - val_kullback_leibler_divergence: 1.3411\n",
      "Epoch 16/30\n",
      "16/16 [==============================] - 5s 316ms/step - loss: 0.1443 - kullback_leibler_divergence: 0.1443 - val_loss: 1.3552 - val_kullback_leibler_divergence: 1.3552\n",
      "Epoch 17/30\n",
      "16/16 [==============================] - 5s 299ms/step - loss: 0.1379 - kullback_leibler_divergence: 0.1379 - val_loss: 1.3577 - val_kullback_leibler_divergence: 1.3577\n",
      "Epoch 18/30\n",
      "16/16 [==============================] - 5s 306ms/step - loss: 0.1235 - kullback_leibler_divergence: 0.1235 - val_loss: 1.3545 - val_kullback_leibler_divergence: 1.3545\n",
      "Epoch 19/30\n",
      "16/16 [==============================] - 5s 293ms/step - loss: 0.1257 - kullback_leibler_divergence: 0.1257 - val_loss: 1.4321 - val_kullback_leibler_divergence: 1.4321\n",
      "Epoch 20/30\n",
      "16/16 [==============================] - 5s 305ms/step - loss: 0.1248 - kullback_leibler_divergence: 0.1248 - val_loss: 1.3736 - val_kullback_leibler_divergence: 1.3736\n",
      "Epoch 21/30\n",
      "16/16 [==============================] - 5s 301ms/step - loss: 0.1199 - kullback_leibler_divergence: 0.1199 - val_loss: 1.3544 - val_kullback_leibler_divergence: 1.3544\n",
      "Epoch 22/30\n",
      "16/16 [==============================] - 5s 291ms/step - loss: 0.1230 - kullback_leibler_divergence: 0.1230 - val_loss: 1.3917 - val_kullback_leibler_divergence: 1.3917\n",
      "Epoch 23/30\n",
      "16/16 [==============================] - 5s 293ms/step - loss: 0.1102 - kullback_leibler_divergence: 0.1102 - val_loss: 1.3816 - val_kullback_leibler_divergence: 1.3816\n",
      "Epoch 24/30\n",
      "16/16 [==============================] - 5s 307ms/step - loss: 0.1087 - kullback_leibler_divergence: 0.1087 - val_loss: 1.3838 - val_kullback_leibler_divergence: 1.3838\n",
      "Epoch 25/30\n",
      "16/16 [==============================] - 5s 306ms/step - loss: 0.1116 - kullback_leibler_divergence: 0.1116 - val_loss: 1.4046 - val_kullback_leibler_divergence: 1.4046\n",
      "Epoch 26/30\n",
      "16/16 [==============================] - 5s 296ms/step - loss: 0.0967 - kullback_leibler_divergence: 0.0967 - val_loss: 1.4225 - val_kullback_leibler_divergence: 1.4225\n",
      "Epoch 27/30\n",
      "16/16 [==============================] - 5s 277ms/step - loss: 0.1044 - kullback_leibler_divergence: 0.1044 - val_loss: 1.4609 - val_kullback_leibler_divergence: 1.4609\n",
      "Epoch 28/30\n",
      "16/16 [==============================] - 5s 330ms/step - loss: 0.1027 - kullback_leibler_divergence: 0.1027 - val_loss: 1.4198 - val_kullback_leibler_divergence: 1.4198\n",
      "Epoch 29/30\n",
      "16/16 [==============================] - 5s 303ms/step - loss: 0.0922 - kullback_leibler_divergence: 0.0922 - val_loss: 1.5134 - val_kullback_leibler_divergence: 1.5134\n",
      "Epoch 30/30\n",
      "16/16 [==============================] - 5s 290ms/step - loss: 0.1057 - kullback_leibler_divergence: 0.1057 - val_loss: 1.5278 - val_kullback_leibler_divergence: 1.5278\n"
     ]
    }
   ],
   "source": [
    "checkpoint_filepath = f'{output_dir}checkpoint-12-1.model.keras'\n",
    "model_checkpoint_callback = keras.callbacks.ModelCheckpoint(\n",
    "    filepath=checkpoint_filepath,\n",
    "    # monitor='val_kl_divergence',\n",
    "    monitor='val_kullback_leibler_divergence', \n",
    "    mode='min',\n",
    "    save_best_only=True)\n",
    "\n",
    "best_hps=tuner.get_best_hyperparameters()[0]\n",
    "\n",
    "model = tuner.hypermodel.build(best_hps)\n",
    "\n",
    "history = model.fit(training_generator, epochs=30,\n",
    "          validation_data=validation_generator,\n",
    "          callbacks=[model_checkpoint_callback])\n"
   ]
  },
  {
   "cell_type": "markdown",
   "id": "1836d269",
   "metadata": {
    "papermill": {
     "duration": 0.480662,
     "end_time": "2024-03-10T18:40:52.363886",
     "exception": false,
     "start_time": "2024-03-10T18:40:51.883224",
     "status": "completed"
    },
    "tags": []
   },
   "source": [
    "## Scoring without submission\n",
    "\n",
    "Using a local test set."
   ]
  },
  {
   "cell_type": "code",
   "execution_count": 21,
   "id": "a1bb6086",
   "metadata": {},
   "outputs": [
    {
     "name": "stdout",
     "output_type": "stream",
     "text": [
      "4/4 [==============================] - 0s 35ms/step\n"
     ]
    }
   ],
   "source": [
    "params = {\n",
    "    'batch_size': 32,\n",
    "    'n_classes': 6,\n",
    "    }\n",
    "\n",
    "test_generator = TestDataGenerator(path_test_items, path_test, **params)\n",
    "\n",
    "y_pred = model.predict(test_generator)"
   ]
  },
  {
   "cell_type": "code",
   "execution_count": 22,
   "id": "a79602d6",
   "metadata": {
    "execution": {
     "iopub.execute_input": "2024-03-10T18:40:53.316543Z",
     "iopub.status.busy": "2024-03-10T18:40:53.315744Z",
     "iopub.status.idle": "2024-03-10T18:40:53.320351Z",
     "shell.execute_reply": "2024-03-10T18:40:53.319446Z"
    },
    "papermill": {
     "duration": 0.477216,
     "end_time": "2024-03-10T18:40:53.322237",
     "exception": false,
     "start_time": "2024-03-10T18:40:52.845021",
     "status": "completed"
    },
    "tags": []
   },
   "outputs": [
    {
     "name": "stderr",
     "output_type": "stream",
     "text": [
      "/home/edg/hms/keras/../lib/KLmetric.py:100: SettingWithCopyWarning: \n",
      "A value is trying to be set on a copy of a slice from a DataFrame.\n",
      "Try using .loc[row_indexer,col_indexer] = value instead\n",
      "\n",
      "See the caveats in the documentation: https://pandas.pydata.org/pandas-docs/stable/user_guide/indexing.html#returning-a-view-versus-a-copy\n",
      "  solution[col] = solution[col].astype(float)\n",
      "/home/edg/hms/keras/../lib/KLmetric.py:100: SettingWithCopyWarning: \n",
      "A value is trying to be set on a copy of a slice from a DataFrame.\n",
      "Try using .loc[row_indexer,col_indexer] = value instead\n",
      "\n",
      "See the caveats in the documentation: https://pandas.pydata.org/pandas-docs/stable/user_guide/indexing.html#returning-a-view-versus-a-copy\n",
      "  solution[col] = solution[col].astype(float)\n",
      "/home/edg/hms/keras/../lib/KLmetric.py:100: SettingWithCopyWarning: \n",
      "A value is trying to be set on a copy of a slice from a DataFrame.\n",
      "Try using .loc[row_indexer,col_indexer] = value instead\n",
      "\n",
      "See the caveats in the documentation: https://pandas.pydata.org/pandas-docs/stable/user_guide/indexing.html#returning-a-view-versus-a-copy\n",
      "  solution[col] = solution[col].astype(float)\n",
      "/home/edg/hms/keras/../lib/KLmetric.py:100: SettingWithCopyWarning: \n",
      "A value is trying to be set on a copy of a slice from a DataFrame.\n",
      "Try using .loc[row_indexer,col_indexer] = value instead\n",
      "\n",
      "See the caveats in the documentation: https://pandas.pydata.org/pandas-docs/stable/user_guide/indexing.html#returning-a-view-versus-a-copy\n",
      "  solution[col] = solution[col].astype(float)\n",
      "/home/edg/hms/keras/../lib/KLmetric.py:100: SettingWithCopyWarning: \n",
      "A value is trying to be set on a copy of a slice from a DataFrame.\n",
      "Try using .loc[row_indexer,col_indexer] = value instead\n",
      "\n",
      "See the caveats in the documentation: https://pandas.pydata.org/pandas-docs/stable/user_guide/indexing.html#returning-a-view-versus-a-copy\n",
      "  solution[col] = solution[col].astype(float)\n",
      "/home/edg/hms/keras/../lib/KLmetric.py:100: SettingWithCopyWarning: \n",
      "A value is trying to be set on a copy of a slice from a DataFrame.\n",
      "Try using .loc[row_indexer,col_indexer] = value instead\n",
      "\n",
      "See the caveats in the documentation: https://pandas.pydata.org/pandas-docs/stable/user_guide/indexing.html#returning-a-view-versus-a-copy\n",
      "  solution[col] = solution[col].astype(float)\n"
     ]
    },
    {
     "data": {
      "text/plain": [
       "1.6451832216960036"
      ]
     },
     "execution_count": 22,
     "metadata": {},
     "output_type": "execute_result"
    }
   ],
   "source": [
    "TARGETS = ['seizure_vote', 'lpd_vote', 'gpd_vote', 'lrda_vote', 'grda_vote', 'other_vote']\n",
    "\n",
    "test_items = np.load(path_test_items)\n",
    "df_test_items = pd.DataFrame(test_items)\n",
    "df_test_items[0] = df_test_items[0].astype(int)\n",
    "\n",
    "sub = pd.DataFrame({'eeg_id':df_test_items[0]})\n",
    "sub[TARGETS] = np.round(y_pred,6)\n",
    "sub.to_csv('submission.csv',index=False)\n",
    "\n",
    "df_test_scoring = df_test_items[[0,4,5,6,7,8,9]]\n",
    "df_test_scoring.columns = sub.columns\n",
    "\n",
    "score(df_test_scoring, sub, 'eeg_id')"
   ]
  }
 ],
 "metadata": {
  "kaggle": {
   "accelerator": "nvidiaTeslaT4",
   "dataSources": [
    {
     "databundleVersionId": 7469972,
     "sourceId": 59093,
     "sourceType": "competition"
    },
    {
     "datasetId": 4432380,
     "sourceId": 7611741,
     "sourceType": "datasetVersion"
    },
    {
     "datasetId": 4551183,
     "sourceId": 7777833,
     "sourceType": "datasetVersion"
    },
    {
     "datasetId": 4573788,
     "sourceId": 7809333,
     "sourceType": "datasetVersion"
    }
   ],
   "isGpuEnabled": true,
   "isInternetEnabled": false,
   "language": "python",
   "sourceType": "notebook"
  },
  "kernelspec": {
   "display_name": "Python 3",
   "language": "python",
   "name": "python3"
  },
  "language_info": {
   "codemirror_mode": {
    "name": "ipython",
    "version": 3
   },
   "file_extension": ".py",
   "mimetype": "text/x-python",
   "name": "python",
   "nbconvert_exporter": "python",
   "pygments_lexer": "ipython3",
   "version": "3.10.12"
  },
  "papermill": {
   "default_parameters": {},
   "duration": 1350.918643,
   "end_time": "2024-03-10T18:41:01.896576",
   "environment_variables": {},
   "exception": null,
   "input_path": "__notebook__.ipynb",
   "output_path": "__notebook__.ipynb",
   "parameters": {},
   "start_time": "2024-03-10T18:18:30.977933",
   "version": "2.5.0"
  }
 },
 "nbformat": 4,
 "nbformat_minor": 5
}

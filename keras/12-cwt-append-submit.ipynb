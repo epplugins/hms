{
 "cells": [
  {
   "cell_type": "markdown",
   "id": "6db8d9a4",
   "metadata": {
    "papermill": {
     "duration": 0.004533,
     "end_time": "2024-03-14T17:06:04.786503",
     "exception": false,
     "start_time": "2024-03-14T17:06:04.781970",
     "status": "completed"
    },
    "tags": []
   },
   "source": [
    "# Append submit\n",
    "\n",
    "Predict on different sets and append the results into a single submit file."
   ]
  },
  {
   "cell_type": "code",
   "execution_count": 1,
   "id": "6fac301b",
   "metadata": {
    "execution": {
     "iopub.execute_input": "2024-03-14T17:06:04.795772Z",
     "iopub.status.busy": "2024-03-14T17:06:04.795399Z",
     "iopub.status.idle": "2024-03-14T17:06:27.432369Z",
     "shell.execute_reply": "2024-03-14T17:06:27.431396Z"
    },
    "papermill": {
     "duration": 22.644014,
     "end_time": "2024-03-14T17:06:27.434836",
     "exception": false,
     "start_time": "2024-03-14T17:06:04.790822",
     "status": "completed"
    },
    "tags": []
   },
   "outputs": [
    {
     "name": "stderr",
     "output_type": "stream",
     "text": [
      "2024-03-25 19:09:59.751288: I tensorflow/core/util/port.cc:113] oneDNN custom operations are on. You may see slightly different numerical results due to floating-point round-off errors from different computation orders. To turn them off, set the environment variable `TF_ENABLE_ONEDNN_OPTS=0`.\n",
      "2024-03-25 19:09:59.840396: I tensorflow/core/platform/cpu_feature_guard.cc:182] This TensorFlow binary is optimized to use available CPU instructions in performance-critical operations.\n",
      "To enable the following instructions: SSE4.1 SSE4.2 AVX AVX2 AVX_VNNI FMA, in other operations, rebuild TensorFlow with the appropriate compiler flags.\n"
     ]
    }
   ],
   "source": [
    "import numpy as np\n",
    "import pandas as pd\n",
    "import tensorflow as tf\n",
    "import keras\n",
    "import sys\n",
    "import os\n",
    "\n",
    "# Sets off SettingWithCopyWarning.\n",
    "pd.set_option('mode.chained_assignment', None)\n",
    "\n",
    "\n",
    "# ----------------------------------------\n",
    "# Flags for working on my different machines.\n",
    "# flag_kaggle = True\n",
    "flag_FW = True\n",
    "# flag_LN = True\n",
    "\n",
    "try:\n",
    "    if flag_kaggle:\n",
    "        sys.path.insert(0, '/kaggle/input/hms-lib')\n",
    "        base_dir = '/kaggle/input/hms-harmful-brain-activity-classification'\n",
    "        devset_dir = '/kaggle/input/hms-cwt-scalograms-single-numpy-v1'\n",
    "        output_dir = ''\n",
    "except:\n",
    "    pass \n",
    "\n",
    "try:\n",
    "    if flag_FW:\n",
    "        sys.path.insert(0, '../lib')\n",
    "        base_dir = '../../kaggle_data/hms'\n",
    "        devset_dir = '../data'\n",
    "        output_dir = 'results/'\n",
    "except:\n",
    "    pass \n",
    "\n",
    "try:\n",
    "    if flag_LN:\n",
    "        sys.path.insert(0, '../lib')\n",
    "        base_dir = '../../data/hms'\n",
    "        devset_dir = '../data'\n",
    "        output_dir = 'results/'\n",
    "except:\n",
    "    pass \n",
    "# ----------------------------------------\n",
    "\n",
    "from KLmetric import score\n",
    "\n",
    "path_train = f'{devset_dir}/05_single_cwt_v1_train.npy'\n",
    "path_train_items = f'{devset_dir}/05_single_cwt_v1_train_items.npy'\n",
    "path_val = f'{devset_dir}/05_single_cwt_v1_val.npy'\n",
    "path_val_items = f'{devset_dir}/05_single_cwt_v1_val_items.npy'\n",
    "path_test = f'{devset_dir}/05_single_cwt_v1_test.npy'\n",
    "path_test_items = f'{devset_dir}/05_single_cwt_v1_test_items.npy'"
   ]
  },
  {
   "cell_type": "code",
   "execution_count": 6,
   "id": "3ee27870",
   "metadata": {
    "execution": {
     "iopub.execute_input": "2024-03-14T17:09:43.326637Z",
     "iopub.status.busy": "2024-03-14T17:09:43.326003Z",
     "iopub.status.idle": "2024-03-14T17:09:43.511520Z",
     "shell.execute_reply": "2024-03-14T17:09:43.510398Z"
    },
    "papermill": {
     "duration": 0.253465,
     "end_time": "2024-03-14T17:09:43.514026",
     "exception": false,
     "start_time": "2024-03-14T17:09:43.260561",
     "status": "completed"
    },
    "tags": []
   },
   "outputs": [],
   "source": [
    "# model_filename = f'{output_dir}hms-keras-12-cwt-final.keras'\n",
    "# model.save(model_filename)"
   ]
  },
  {
   "cell_type": "code",
   "execution_count": 2,
   "id": "cfc64319",
   "metadata": {
    "execution": {
     "iopub.execute_input": "2024-03-14T17:09:43.643963Z",
     "iopub.status.busy": "2024-03-14T17:09:43.643614Z",
     "iopub.status.idle": "2024-03-14T17:09:43.655279Z",
     "shell.execute_reply": "2024-03-14T17:09:43.654548Z"
    },
    "papermill": {
     "duration": 0.078535,
     "end_time": "2024-03-14T17:09:43.657034",
     "exception": false,
     "start_time": "2024-03-14T17:09:43.578499",
     "status": "completed"
    },
    "tags": []
   },
   "outputs": [],
   "source": [
    "\n",
    "#\n",
    "# Test Data generator for predicting\n",
    "# \n",
    "\n",
    "class TestDataGenerator(keras.utils.Sequence):\n",
    "    'Generates data for Keras'\n",
    "    def __init__(self, path_to_items, path_to_data, batch_size=32, n_classes=6, shuffle=False):\n",
    "        ''' Initialization\n",
    "        item: [eeg_id, eeg_sub_id, idx in sgrams (1st index), target,\n",
    "        seizure_vote, lpd_vote, gpd_vote, lrda_vote,\n",
    "        grda_vote, other_vote]\n",
    "        '''\n",
    "        self.n_channels = 5\n",
    "        self.data = np.load(path_to_data)\n",
    "        self.items = np.load(path_to_items)\n",
    "        self.dim = (self.data.shape[1], self.data.shape[2])\n",
    "        self.batch_size = batch_size\n",
    "        self.len = self.data.shape[0]\n",
    "        self.n_classes = n_classes\n",
    "        self.shuffle = shuffle\n",
    "        self.on_epoch_end()\n",
    "\n",
    "    def __len__(self):\n",
    "        'Denotes the number of batches per epoch'\n",
    "        return int(np.ceil(self.len / self.batch_size))\n",
    "\n",
    "    def __getitem__(self, index):\n",
    "        'Generate one batch of data'\n",
    "        # Generate indexes of the batch\n",
    "        indexes = self.indexes[index*self.batch_size:(index+1)*self.batch_size]\n",
    "\n",
    "        # Generate data\n",
    "        X = self.__data_generation(indexes)\n",
    "\n",
    "        return X\n",
    "\n",
    "    def get_dim(self):\n",
    "        'Dimensions for the input layer.'\n",
    "        return (self.dim[0], self.dim[1], self.n_channels)\n",
    "\n",
    "    def on_epoch_end(self):\n",
    "        'Updates indexes after each epoch'\n",
    "        self.indexes = np.arange(self.len)\n",
    "        # pass \n",
    "        \n",
    "    def __data_generation(self, indexes):\n",
    "        'Generates data containing batch_size samples' # X : (n_samples, *dim, n_channels)\n",
    "        # Initialization\n",
    "        true_size = len(indexes)\n",
    "        X = np.empty((true_size, *self.dim, self.n_channels))\n",
    "\n",
    "        # Generate data\n",
    "        for i, idx in enumerate(indexes):\n",
    "            item = self.items[idx]\n",
    "            # print(item)  # Uncomment for testing.\n",
    "            X[i,:,:,:] = self.data[np.int32(item[2]), :, :, :]\n",
    "\n",
    "        return X\n"
   ]
  },
  {
   "cell_type": "code",
   "execution_count": 10,
   "id": "d29d20d0",
   "metadata": {},
   "outputs": [],
   "source": [
    "# loaded_model = keras.models.load_model('/kaggle/working/hms-keras-12-cwt-final.keras')\n",
    "# loaded_model = keras.models.load_model('results/hms-keras-12-cwt-final.keras')\n",
    "model = keras.models.load_model('results/checkpoint1.model.keras')"
   ]
  },
  {
   "cell_type": "code",
   "execution_count": 11,
   "id": "41aa9428",
   "metadata": {
    "execution": {
     "iopub.execute_input": "2024-03-14T17:09:43.784437Z",
     "iopub.status.busy": "2024-03-14T17:09:43.784162Z",
     "iopub.status.idle": "2024-03-14T17:09:55.755359Z",
     "shell.execute_reply": "2024-03-14T17:09:55.754336Z"
    },
    "papermill": {
     "duration": 12.037888,
     "end_time": "2024-03-14T17:09:55.757680",
     "exception": false,
     "start_time": "2024-03-14T17:09:43.719792",
     "status": "completed"
    },
    "tags": []
   },
   "outputs": [
    {
     "name": "stdout",
     "output_type": "stream",
     "text": [
      "39/39 [==============================] - 2s 44ms/step\n"
     ]
    }
   ],
   "source": [
    "params = {\n",
    "    'batch_size': 32,\n",
    "    'n_classes': 6,\n",
    "    }\n",
    "\n",
    "test_generator = TestDataGenerator(path_test_items, path_test, **params)\n",
    "\n",
    "y_pred = model.predict(test_generator)"
   ]
  },
  {
   "cell_type": "code",
   "execution_count": 12,
   "id": "329b3295",
   "metadata": {
    "execution": {
     "iopub.execute_input": "2024-03-14T17:09:55.932454Z",
     "iopub.status.busy": "2024-03-14T17:09:55.932059Z",
     "iopub.status.idle": "2024-03-14T17:09:56.006144Z",
     "shell.execute_reply": "2024-03-14T17:09:56.005249Z"
    },
    "papermill": {
     "duration": 0.185824,
     "end_time": "2024-03-14T17:09:56.008023",
     "exception": false,
     "start_time": "2024-03-14T17:09:55.822199",
     "status": "completed"
    },
    "tags": []
   },
   "outputs": [],
   "source": [
    "TARGETS = ['seizure_vote', 'lpd_vote', 'gpd_vote', 'lrda_vote', 'grda_vote', 'other_vote']\n",
    "\n",
    "test_items = np.load(path_test_items)\n",
    "df_test_items = pd.DataFrame(test_items)\n",
    "df_test_items[0] = df_test_items[0].astype(int)\n",
    "\n",
    "sub = pd.DataFrame({'eeg_id':df_test_items[0]})\n",
    "sub[TARGETS] = np.round(y_pred,6)\n",
    "# sub.to_csv('submission.csv',index=False)\n"
   ]
  },
  {
   "cell_type": "code",
   "execution_count": 20,
   "id": "1992da86",
   "metadata": {},
   "outputs": [
    {
     "data": {
      "text/html": [
       "<div>\n",
       "<style scoped>\n",
       "    .dataframe tbody tr th:only-of-type {\n",
       "        vertical-align: middle;\n",
       "    }\n",
       "\n",
       "    .dataframe tbody tr th {\n",
       "        vertical-align: top;\n",
       "    }\n",
       "\n",
       "    .dataframe thead th {\n",
       "        text-align: right;\n",
       "    }\n",
       "</style>\n",
       "<table border=\"1\" class=\"dataframe\">\n",
       "  <thead>\n",
       "    <tr style=\"text-align: right;\">\n",
       "      <th></th>\n",
       "      <th>eeg_id</th>\n",
       "      <th>seizure_vote</th>\n",
       "      <th>lpd_vote</th>\n",
       "      <th>gpd_vote</th>\n",
       "      <th>lrda_vote</th>\n",
       "      <th>grda_vote</th>\n",
       "      <th>other_vote</th>\n",
       "    </tr>\n",
       "  </thead>\n",
       "  <tbody>\n",
       "    <tr>\n",
       "      <th>0</th>\n",
       "      <td>4233815620</td>\n",
       "      <td>0.075590</td>\n",
       "      <td>0.110301</td>\n",
       "      <td>0.182943</td>\n",
       "      <td>0.077463</td>\n",
       "      <td>0.200211</td>\n",
       "      <td>0.353492</td>\n",
       "    </tr>\n",
       "    <tr>\n",
       "      <th>1</th>\n",
       "      <td>3403533082</td>\n",
       "      <td>0.098262</td>\n",
       "      <td>0.153067</td>\n",
       "      <td>0.072883</td>\n",
       "      <td>0.171067</td>\n",
       "      <td>0.145180</td>\n",
       "      <td>0.359542</td>\n",
       "    </tr>\n",
       "    <tr>\n",
       "      <th>2</th>\n",
       "      <td>3965487042</td>\n",
       "      <td>0.110641</td>\n",
       "      <td>0.119595</td>\n",
       "      <td>0.073578</td>\n",
       "      <td>0.096455</td>\n",
       "      <td>0.284444</td>\n",
       "      <td>0.315287</td>\n",
       "    </tr>\n",
       "    <tr>\n",
       "      <th>3</th>\n",
       "      <td>2391349997</td>\n",
       "      <td>0.058712</td>\n",
       "      <td>0.103725</td>\n",
       "      <td>0.050791</td>\n",
       "      <td>0.118276</td>\n",
       "      <td>0.315982</td>\n",
       "      <td>0.352513</td>\n",
       "    </tr>\n",
       "    <tr>\n",
       "      <th>4</th>\n",
       "      <td>3572672408</td>\n",
       "      <td>0.130737</td>\n",
       "      <td>0.153516</td>\n",
       "      <td>0.116511</td>\n",
       "      <td>0.110104</td>\n",
       "      <td>0.170550</td>\n",
       "      <td>0.318583</td>\n",
       "    </tr>\n",
       "    <tr>\n",
       "      <th>...</th>\n",
       "      <td>...</td>\n",
       "      <td>...</td>\n",
       "      <td>...</td>\n",
       "      <td>...</td>\n",
       "      <td>...</td>\n",
       "      <td>...</td>\n",
       "      <td>...</td>\n",
       "    </tr>\n",
       "    <tr>\n",
       "      <th>1243</th>\n",
       "      <td>1366416656</td>\n",
       "      <td>0.070139</td>\n",
       "      <td>0.120307</td>\n",
       "      <td>0.112481</td>\n",
       "      <td>0.224289</td>\n",
       "      <td>0.180304</td>\n",
       "      <td>0.292480</td>\n",
       "    </tr>\n",
       "    <tr>\n",
       "      <th>1244</th>\n",
       "      <td>1353894913</td>\n",
       "      <td>0.084653</td>\n",
       "      <td>0.170651</td>\n",
       "      <td>0.100513</td>\n",
       "      <td>0.193428</td>\n",
       "      <td>0.156617</td>\n",
       "      <td>0.294138</td>\n",
       "    </tr>\n",
       "    <tr>\n",
       "      <th>1245</th>\n",
       "      <td>4000022002</td>\n",
       "      <td>0.045042</td>\n",
       "      <td>0.022166</td>\n",
       "      <td>0.000193</td>\n",
       "      <td>0.002838</td>\n",
       "      <td>0.004871</td>\n",
       "      <td>0.924889</td>\n",
       "    </tr>\n",
       "    <tr>\n",
       "      <th>1246</th>\n",
       "      <td>1256215657</td>\n",
       "      <td>0.067536</td>\n",
       "      <td>0.113160</td>\n",
       "      <td>0.074910</td>\n",
       "      <td>0.132595</td>\n",
       "      <td>0.121191</td>\n",
       "      <td>0.490609</td>\n",
       "    </tr>\n",
       "    <tr>\n",
       "      <th>1247</th>\n",
       "      <td>4170380205</td>\n",
       "      <td>0.073631</td>\n",
       "      <td>0.185810</td>\n",
       "      <td>0.066599</td>\n",
       "      <td>0.164295</td>\n",
       "      <td>0.120427</td>\n",
       "      <td>0.389239</td>\n",
       "    </tr>\n",
       "  </tbody>\n",
       "</table>\n",
       "<p>1248 rows × 7 columns</p>\n",
       "</div>"
      ],
      "text/plain": [
       "          eeg_id  seizure_vote  lpd_vote  gpd_vote  lrda_vote  grda_vote  \\\n",
       "0     4233815620      0.075590  0.110301  0.182943   0.077463   0.200211   \n",
       "1     3403533082      0.098262  0.153067  0.072883   0.171067   0.145180   \n",
       "2     3965487042      0.110641  0.119595  0.073578   0.096455   0.284444   \n",
       "3     2391349997      0.058712  0.103725  0.050791   0.118276   0.315982   \n",
       "4     3572672408      0.130737  0.153516  0.116511   0.110104   0.170550   \n",
       "...          ...           ...       ...       ...        ...        ...   \n",
       "1243  1366416656      0.070139  0.120307  0.112481   0.224289   0.180304   \n",
       "1244  1353894913      0.084653  0.170651  0.100513   0.193428   0.156617   \n",
       "1245  4000022002      0.045042  0.022166  0.000193   0.002838   0.004871   \n",
       "1246  1256215657      0.067536  0.113160  0.074910   0.132595   0.121191   \n",
       "1247  4170380205      0.073631  0.185810  0.066599   0.164295   0.120427   \n",
       "\n",
       "      other_vote  \n",
       "0       0.353492  \n",
       "1       0.359542  \n",
       "2       0.315287  \n",
       "3       0.352513  \n",
       "4       0.318583  \n",
       "...          ...  \n",
       "1243    0.292480  \n",
       "1244    0.294138  \n",
       "1245    0.924889  \n",
       "1246    0.490609  \n",
       "1247    0.389239  \n",
       "\n",
       "[1248 rows x 7 columns]"
      ]
     },
     "execution_count": 20,
     "metadata": {},
     "output_type": "execute_result"
    }
   ],
   "source": [
    "sub"
   ]
  },
  {
   "cell_type": "code",
   "execution_count": 16,
   "id": "bc0aa8fe",
   "metadata": {},
   "outputs": [
    {
     "data": {
      "text/plain": [
       "[4030290342,\n",
       " 2482901265,\n",
       " 342782614,\n",
       " 3129576740,\n",
       " 1384820659,\n",
       " 2099984829,\n",
       " 1129801459,\n",
       " 2882719839,\n",
       " 3441128830,\n",
       " 1641054670]"
      ]
     },
     "execution_count": 16,
     "metadata": {},
     "output_type": "execute_result"
    }
   ],
   "source": [
    "other_items = []\n",
    "other_items = [4030290342, 2482901265,  342782614, 3129576740, 1384820659, \n",
    "               2099984829, 1129801459, 2882719839, 3441128830, 1641054670]\n",
    "    \n",
    "other_items"
   ]
  },
  {
   "cell_type": "code",
   "execution_count": 21,
   "id": "ebe22224",
   "metadata": {},
   "outputs": [
    {
     "data": {
      "text/plain": [
       "[4030290342, 2482901265, 342782614]"
      ]
     },
     "execution_count": 21,
     "metadata": {},
     "output_type": "execute_result"
    }
   ],
   "source": [
    "other_items = []\n",
    "other_items.append(4030290342)\n",
    "other_items.append(2482901265)\n",
    "other_items.append(342782614)\n",
    "other_items"
   ]
  },
  {
   "cell_type": "code",
   "execution_count": 22,
   "id": "ed76e044",
   "metadata": {},
   "outputs": [],
   "source": [
    "y_pred2 = np.zeros((len(other_items),6),dtype=float)\n",
    "\n",
    "for i in range(len(other_items)):\n",
    "    y_pred2[i,] = np.array([0,0,0,0,0,1])\n",
    "sub2 = pd.DataFrame({'eeg_id':other_items})\n",
    "sub2[TARGETS] = y_pred2\n"
   ]
  },
  {
   "cell_type": "code",
   "execution_count": 24,
   "id": "ee4310cf",
   "metadata": {},
   "outputs": [],
   "source": [
    "newsub = pd.concat([sub, sub2])\n",
    "newsub.to_csv('submission.csv',index=False)\n"
   ]
  },
  {
   "cell_type": "code",
   "execution_count": null,
   "id": "88ce9058",
   "metadata": {
    "papermill": {
     "duration": 0.064043,
     "end_time": "2024-03-14T17:09:56.136515",
     "exception": false,
     "start_time": "2024-03-14T17:09:56.072472",
     "status": "completed"
    },
    "tags": []
   },
   "outputs": [],
   "source": [
    "\n",
    "df_test_scoring = df_test_items[[0,4,5,6,7,8,9]]\n",
    "df_test_scoring.columns = sub.columns\n",
    "\n",
    "score(df_test_scoring, sub, 'eeg_id')"
   ]
  },
  {
   "cell_type": "code",
   "execution_count": 29,
   "id": "fafd8ede",
   "metadata": {},
   "outputs": [
    {
     "data": {
      "text/plain": [
       "array([4233815620, 3403533082, 3965487042, ..., 4000022002, 1256215657,\n",
       "       4170380205])"
      ]
     },
     "execution_count": 29,
     "metadata": {},
     "output_type": "execute_result"
    }
   ],
   "source": [
    "items = np.load(path_test_items)\n",
    "items[:,0].astype(int)"
   ]
  },
  {
   "cell_type": "code",
   "execution_count": null,
   "id": "e3d4cb99",
   "metadata": {},
   "outputs": [],
   "source": []
  }
 ],
 "metadata": {
  "kaggle": {
   "accelerator": "nvidiaTeslaT4",
   "dataSources": [
    {
     "databundleVersionId": 7469972,
     "sourceId": 59093,
     "sourceType": "competition"
    },
    {
     "datasetId": 4551183,
     "sourceId": 7777833,
     "sourceType": "datasetVersion"
    },
    {
     "datasetId": 4575023,
     "sourceId": 7811102,
     "sourceType": "datasetVersion"
    },
    {
     "datasetId": 4599043,
     "sourceId": 7844040,
     "sourceType": "datasetVersion"
    }
   ],
   "dockerImageVersionId": 30665,
   "isGpuEnabled": true,
   "isInternetEnabled": false,
   "language": "python",
   "sourceType": "notebook"
  },
  "kernelspec": {
   "display_name": "Python 3",
   "language": "python",
   "name": "python3"
  },
  "language_info": {
   "codemirror_mode": {
    "name": "ipython",
    "version": 3
   },
   "file_extension": ".py",
   "mimetype": "text/x-python",
   "name": "python",
   "nbconvert_exporter": "python",
   "pygments_lexer": "ipython3",
   "version": "3.10.12"
  },
  "papermill": {
   "default_parameters": {},
   "duration": 237.992399,
   "end_time": "2024-03-14T17:09:58.931128",
   "environment_variables": {},
   "exception": null,
   "input_path": "__notebook__.ipynb",
   "output_path": "__notebook__.ipynb",
   "parameters": {},
   "start_time": "2024-03-14T17:06:00.938729",
   "version": "2.5.0"
  }
 },
 "nbformat": 4,
 "nbformat_minor": 5
}

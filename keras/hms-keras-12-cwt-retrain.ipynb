{
 "cells": [
  {
   "cell_type": "markdown",
   "id": "6db8d9a4",
   "metadata": {
    "papermill": {
     "duration": 0.004533,
     "end_time": "2024-03-14T17:06:04.786503",
     "exception": false,
     "start_time": "2024-03-14T17:06:04.781970",
     "status": "completed"
    },
    "tags": []
   },
   "source": [
    "# Retrain the model using the complete dataset\n",
    "\n",
    "Retrain, predict local test set."
   ]
  },
  {
   "cell_type": "code",
   "execution_count": 1,
   "id": "6fac301b",
   "metadata": {
    "execution": {
     "iopub.execute_input": "2024-03-14T17:06:04.795772Z",
     "iopub.status.busy": "2024-03-14T17:06:04.795399Z",
     "iopub.status.idle": "2024-03-14T17:06:27.432369Z",
     "shell.execute_reply": "2024-03-14T17:06:27.431396Z"
    },
    "papermill": {
     "duration": 22.644014,
     "end_time": "2024-03-14T17:06:27.434836",
     "exception": false,
     "start_time": "2024-03-14T17:06:04.790822",
     "status": "completed"
    },
    "tags": []
   },
   "outputs": [
    {
     "name": "stderr",
     "output_type": "stream",
     "text": [
      "2024-03-14 17:06:09.959098: E external/local_xla/xla/stream_executor/cuda/cuda_dnn.cc:9261] Unable to register cuDNN factory: Attempting to register factory for plugin cuDNN when one has already been registered\n",
      "2024-03-14 17:06:09.959215: E external/local_xla/xla/stream_executor/cuda/cuda_fft.cc:607] Unable to register cuFFT factory: Attempting to register factory for plugin cuFFT when one has already been registered\n",
      "2024-03-14 17:06:10.254081: E external/local_xla/xla/stream_executor/cuda/cuda_blas.cc:1515] Unable to register cuBLAS factory: Attempting to register factory for plugin cuBLAS when one has already been registered\n"
     ]
    }
   ],
   "source": [
    "import numpy as np\n",
    "import pandas as pd\n",
    "import tensorflow as tf\n",
    "import keras\n",
    "from keras import layers, regularizers\n",
    "import keras_tuner as kt\n",
    "import sys\n",
    "import os\n",
    "\n",
    "# Sets off SettingWithCopyWarning.\n",
    "pd.set_option('mode.chained_assignment', None)\n",
    "\n",
    "\n",
    "# ----------------------------------------\n",
    "# Flags for working on my different machines.\n",
    "flag_kaggle = True\n",
    "# flag_FW = True\n",
    "# flag_LN = True\n",
    "\n",
    "try:\n",
    "    if flag_kaggle:\n",
    "        sys.path.insert(0, '/kaggle/input/hms-lib')\n",
    "        base_dir = '/kaggle/input/hms-harmful-brain-activity-classification'\n",
    "        devset_dir = '/kaggle/input/hms-cwt-scalograms-single-numpy-v1'\n",
    "        output_dir = ''\n",
    "except:\n",
    "    pass \n",
    "\n",
    "try:\n",
    "    if flag_FW:\n",
    "        sys.path.insert(0, '../lib')\n",
    "        base_dir = '../../kaggle_data/hms'\n",
    "        devset_dir = '../data'\n",
    "        output_dir = 'results/'\n",
    "except:\n",
    "    pass \n",
    "\n",
    "try:\n",
    "    if flag_LN:\n",
    "        sys.path.insert(0, '../lib')\n",
    "        base_dir = '../../data/hms'\n",
    "        devset_dir = '../data'\n",
    "        output_dir = 'results/'\n",
    "except:\n",
    "    pass \n",
    "# ----------------------------------------\n",
    "\n",
    "from KLmetric import score\n",
    "\n",
    "path_train = f'{devset_dir}/05_single_cwt_v1_train.npy'\n",
    "path_train_items = f'{devset_dir}/05_single_cwt_v1_train_items.npy'\n",
    "path_val = f'{devset_dir}/05_single_cwt_v1_val.npy'\n",
    "path_val_items = f'{devset_dir}/05_single_cwt_v1_val_items.npy'\n",
    "path_test = f'{devset_dir}/05_single_cwt_v1_test.npy'\n",
    "path_test_items = f'{devset_dir}/05_single_cwt_v1_test_items.npy'"
   ]
  },
  {
   "cell_type": "markdown",
   "id": "738b34a5",
   "metadata": {
    "papermill": {
     "duration": 0.003735,
     "end_time": "2024-03-14T17:06:27.442522",
     "exception": false,
     "start_time": "2024-03-14T17:06:27.438787",
     "status": "completed"
    },
    "tags": []
   },
   "source": [
    "## Merge training and validation sets."
   ]
  },
  {
   "cell_type": "code",
   "execution_count": 2,
   "id": "0d61dbe9",
   "metadata": {
    "execution": {
     "iopub.execute_input": "2024-03-14T17:06:27.451821Z",
     "iopub.status.busy": "2024-03-14T17:06:27.450916Z",
     "iopub.status.idle": "2024-03-14T17:06:27.467132Z",
     "shell.execute_reply": "2024-03-14T17:06:27.466284Z"
    },
    "papermill": {
     "duration": 0.02272,
     "end_time": "2024-03-14T17:06:27.469011",
     "exception": false,
     "start_time": "2024-03-14T17:06:27.446291",
     "status": "completed"
    },
    "tags": []
   },
   "outputs": [],
   "source": [
    "#\n",
    "# Data generator for training.\n",
    "#\n",
    "# coefficients of cwt's arrays\n",
    "# 5 channels (LP, RP, LT, RP, C)\n",
    "#\n",
    "\n",
    "class RetrainDataGenerator(keras.utils.Sequence):\n",
    "    'Generates data for Keras'\n",
    "    def __init__(self, path_to_train_items, path_to_train_data, path_to_val_items, path_to_val_data, batch_size=32, n_classes=6, shuffle=True):\n",
    "        ''' Initialization\n",
    "        item: [eeg_id, eeg_sub_id, idx in sgrams (1st index), target,\n",
    "        seizure_vote, lpd_vote, gpd_vote, lrda_vote,\n",
    "        grda_vote, other_vote]\n",
    "        '''\n",
    "        self.n_channels = 5\n",
    "        # self.n_freqs = 40\n",
    "\n",
    "        self.data = np.concatenate([np.load(path_to_train_data), np.load(path_to_val_data)])\n",
    "        self.items = np.concatenate([np.load(path_to_train_items), np.load(path_to_val_items)])\n",
    "        self.dim = (self.data.shape[1], self.data.shape[2])\n",
    "        self.batch_size = batch_size\n",
    "        self.len = self.data.shape[0]\n",
    "        self.n_classes = n_classes\n",
    "        self.shuffle = shuffle\n",
    "        self.on_epoch_end()\n",
    "\n",
    "    def __len__(self):\n",
    "        'Denotes the number of batches per epoch'\n",
    "        return int(np.ceil(self.len / self.batch_size))\n",
    "\n",
    "    def __getitem__(self, index):\n",
    "        'Generate one batch of data'\n",
    "        # Generate indexes of the batch\n",
    "        indexes = self.indexes[index*self.batch_size:(index+1)*self.batch_size]\n",
    "\n",
    "        # Generate data\n",
    "        X, y = self.__data_generation(indexes)\n",
    "\n",
    "        return X, y\n",
    "\n",
    "    def get_dim(self):\n",
    "        'Dimensions for the input layer.'\n",
    "        return (self.dim[0], self.dim[1], self.n_channels)\n",
    "\n",
    "    def get_num_observations(self):\n",
    "        return self.data.shape[0]\n",
    "\n",
    "    def on_epoch_end(self):\n",
    "        'Updates indexes after each epoch'\n",
    "        self.indexes = np.arange(self.len)\n",
    "        if self.shuffle == True:\n",
    "            np.random.shuffle(self.indexes)\n",
    "\n",
    "    def __data_generation(self, indexes):\n",
    "        'Generates data containing batch_size samples' # X : (n_samples, *dim, n_channels)\n",
    "        # Initialization\n",
    "        true_size = len(indexes)\n",
    "        X = np.empty((true_size, *self.dim, self.n_channels))\n",
    "        y = np.empty((true_size, self.n_classes), dtype=float)\n",
    "\n",
    "        # Generate data\n",
    "        for i, idx in enumerate(indexes):\n",
    "            item = self.items[idx]\n",
    "            # print(item)  # Uncomment for testing.\n",
    "            X[i,:,:,:] = self.data[np.int32(item[2]), :, :, :]\n",
    "            # Store solution\n",
    "            y[i,:] = item[-6:]\n",
    "\n",
    "        return X, y\n"
   ]
  },
  {
   "cell_type": "code",
   "execution_count": 3,
   "id": "4fa28d1f",
   "metadata": {
    "execution": {
     "iopub.execute_input": "2024-03-14T17:06:27.477571Z",
     "iopub.status.busy": "2024-03-14T17:06:27.477276Z",
     "iopub.status.idle": "2024-03-14T17:08:35.372911Z",
     "shell.execute_reply": "2024-03-14T17:08:35.371657Z"
    },
    "papermill": {
     "duration": 127.905683,
     "end_time": "2024-03-14T17:08:35.378559",
     "exception": false,
     "start_time": "2024-03-14T17:06:27.472876",
     "status": "completed"
    },
    "tags": []
   },
   "outputs": [
    {
     "name": "stdout",
     "output_type": "stream",
     "text": [
      "Observations in training set: 14334\n"
     ]
    }
   ],
   "source": [
    "# Parameters\n",
    "params = {\n",
    "    'batch_size': 32,\n",
    "    'n_classes': 6,\n",
    "    'shuffle': True\n",
    "    }\n",
    "\n",
    "retraining_generator = RetrainDataGenerator(path_train_items, path_train, path_val_items, path_val, **params)\n",
    "\n",
    "print(\"Observations in training set:\", retraining_generator.get_num_observations())\n"
   ]
  },
  {
   "cell_type": "code",
   "execution_count": 4,
   "id": "8112d2a3",
   "metadata": {
    "execution": {
     "iopub.execute_input": "2024-03-14T17:08:35.387820Z",
     "iopub.status.busy": "2024-03-14T17:08:35.387498Z",
     "iopub.status.idle": "2024-03-14T17:08:39.366430Z",
     "shell.execute_reply": "2024-03-14T17:08:39.365309Z"
    },
    "papermill": {
     "duration": 3.986685,
     "end_time": "2024-03-14T17:08:39.369247",
     "exception": false,
     "start_time": "2024-03-14T17:08:35.382562",
     "status": "completed"
    },
    "tags": []
   },
   "outputs": [],
   "source": [
    "original_file = '/kaggle/input/hms-model-keras-cwt-v1/checkpoint-12-1.model.keras'\n",
    "!cp '/kaggle/input/hms-model-keras-cwt-v1/checkpoint-12-1.model.keras' '/kaggle/working/checkpoint-12-1.model.keras'\n",
    "checkpoint_filepath = '/kaggle/working/checkpoint-12-1.model.keras'\n",
    "model = keras.models.load_model(checkpoint_filepath)\n"
   ]
  },
  {
   "cell_type": "code",
   "execution_count": 5,
   "id": "532dbad2",
   "metadata": {
    "execution": {
     "iopub.execute_input": "2024-03-14T17:08:39.380795Z",
     "iopub.status.busy": "2024-03-14T17:08:39.379841Z",
     "iopub.status.idle": "2024-03-14T17:09:43.193174Z",
     "shell.execute_reply": "2024-03-14T17:09:43.192179Z"
    },
    "papermill": {
     "duration": 63.821166,
     "end_time": "2024-03-14T17:09:43.195265",
     "exception": false,
     "start_time": "2024-03-14T17:08:39.374099",
     "status": "completed"
    },
    "tags": []
   },
   "outputs": [
    {
     "name": "stdout",
     "output_type": "stream",
     "text": [
      "Epoch 1/4\n"
     ]
    },
    {
     "name": "stderr",
     "output_type": "stream",
     "text": [
      "/opt/conda/lib/python3.10/site-packages/keras/src/trainers/data_adapters/py_dataset_adapter.py:122: UserWarning: Your `PyDataset` class should call `super().__init__(**kwargs)` in its constructor. `**kwargs` can include `workers`, `use_multiprocessing`, `max_queue_size`. Do not pass these arguments to `fit()`, as they will be ignored.\n",
      "  self._warn_if_super_not_called()\n"
     ]
    },
    {
     "name": "stdout",
     "output_type": "stream",
     "text": [
      "\u001b[1m  5/448\u001b[0m \u001b[37m━━━━━━━━━━━━━━━━━━━━\u001b[0m \u001b[1m13s\u001b[0m 31ms/step - kl_divergence: 0.6640 - loss: 0.6640"
     ]
    },
    {
     "name": "stderr",
     "output_type": "stream",
     "text": [
      "WARNING: All log messages before absl::InitializeLog() is called are written to STDERR\n",
      "I0000 00:00:1710436129.777527      77 device_compiler.h:186] Compiled cluster using XLA!  This line is logged at most once for the lifetime of the process.\n",
      "W0000 00:00:1710436129.797505      77 graph_launch.cc:671] Fallback to op-by-op mode because memset node breaks graph update\n"
     ]
    },
    {
     "name": "stdout",
     "output_type": "stream",
     "text": [
      "\u001b[1m448/448\u001b[0m \u001b[32m━━━━━━━━━━━━━━━━━━━━\u001b[0m\u001b[37m\u001b[0m \u001b[1m28s\u001b[0m 40ms/step - kl_divergence: 0.7042 - loss: 0.7042\n",
      "Epoch 2/4\n",
      "\u001b[1m448/448\u001b[0m \u001b[32m━━━━━━━━━━━━━━━━━━━━\u001b[0m\u001b[37m\u001b[0m \u001b[1m12s\u001b[0m 26ms/step - kl_divergence: 0.5473 - loss: 0.5473\n",
      "Epoch 3/4\n",
      "\u001b[1m448/448\u001b[0m \u001b[32m━━━━━━━━━━━━━━━━━━━━\u001b[0m\u001b[37m\u001b[0m \u001b[1m12s\u001b[0m 26ms/step - kl_divergence: 0.4503 - loss: 0.4503\n",
      "Epoch 4/4\n",
      "\u001b[1m448/448\u001b[0m \u001b[32m━━━━━━━━━━━━━━━━━━━━\u001b[0m\u001b[37m\u001b[0m \u001b[1m12s\u001b[0m 26ms/step - kl_divergence: 0.3810 - loss: 0.3810\n"
     ]
    }
   ],
   "source": [
    "history = model.fit(retraining_generator, epochs=4)\n"
   ]
  },
  {
   "cell_type": "code",
   "execution_count": 6,
   "id": "3ee27870",
   "metadata": {
    "execution": {
     "iopub.execute_input": "2024-03-14T17:09:43.326637Z",
     "iopub.status.busy": "2024-03-14T17:09:43.326003Z",
     "iopub.status.idle": "2024-03-14T17:09:43.511520Z",
     "shell.execute_reply": "2024-03-14T17:09:43.510398Z"
    },
    "papermill": {
     "duration": 0.253465,
     "end_time": "2024-03-14T17:09:43.514026",
     "exception": false,
     "start_time": "2024-03-14T17:09:43.260561",
     "status": "completed"
    },
    "tags": []
   },
   "outputs": [],
   "source": [
    "model_filename = f'{output_dir}hms-keras-12-cwt-final.keras'\n",
    "model.save(model_filename)"
   ]
  },
  {
   "cell_type": "code",
   "execution_count": 7,
   "id": "cfc64319",
   "metadata": {
    "execution": {
     "iopub.execute_input": "2024-03-14T17:09:43.643963Z",
     "iopub.status.busy": "2024-03-14T17:09:43.643614Z",
     "iopub.status.idle": "2024-03-14T17:09:43.655279Z",
     "shell.execute_reply": "2024-03-14T17:09:43.654548Z"
    },
    "papermill": {
     "duration": 0.078535,
     "end_time": "2024-03-14T17:09:43.657034",
     "exception": false,
     "start_time": "2024-03-14T17:09:43.578499",
     "status": "completed"
    },
    "tags": []
   },
   "outputs": [],
   "source": [
    "\n",
    "#\n",
    "# Test Data generator for predicting\n",
    "# \n",
    "\n",
    "class TestDataGenerator(keras.utils.Sequence):\n",
    "    'Generates data for Keras'\n",
    "    def __init__(self, path_to_items, path_to_data, batch_size=32, n_classes=6, shuffle=False):\n",
    "        ''' Initialization\n",
    "        item: [eeg_id, eeg_sub_id, idx in sgrams (1st index), target,\n",
    "        seizure_vote, lpd_vote, gpd_vote, lrda_vote,\n",
    "        grda_vote, other_vote]\n",
    "        '''\n",
    "        self.n_channels = 5\n",
    "        self.data = np.load(path_to_data)\n",
    "        self.items = np.load(path_to_items)\n",
    "        self.dim = (self.data.shape[1], self.data.shape[2])\n",
    "        self.batch_size = batch_size\n",
    "        self.len = self.data.shape[0]\n",
    "        self.n_classes = n_classes\n",
    "        self.shuffle = shuffle\n",
    "        self.on_epoch_end()\n",
    "\n",
    "    def __len__(self):\n",
    "        'Denotes the number of batches per epoch'\n",
    "        return int(np.ceil(self.len / self.batch_size))\n",
    "\n",
    "    def __getitem__(self, index):\n",
    "        'Generate one batch of data'\n",
    "        # Generate indexes of the batch\n",
    "        indexes = self.indexes[index*self.batch_size:(index+1)*self.batch_size]\n",
    "\n",
    "        # Generate data\n",
    "        X = self.__data_generation(indexes)\n",
    "\n",
    "        return X\n",
    "\n",
    "    def get_dim(self):\n",
    "        'Dimensions for the input layer.'\n",
    "        return (self.dim[0], self.dim[1], self.n_channels)\n",
    "\n",
    "    def on_epoch_end(self):\n",
    "        'Updates indexes after each epoch'\n",
    "        self.indexes = np.arange(self.len)\n",
    "        # pass \n",
    "        \n",
    "    def __data_generation(self, indexes):\n",
    "        'Generates data containing batch_size samples' # X : (n_samples, *dim, n_channels)\n",
    "        # Initialization\n",
    "        true_size = len(indexes)\n",
    "        X = np.empty((true_size, *self.dim, self.n_channels))\n",
    "\n",
    "        # Generate data\n",
    "        for i, idx in enumerate(indexes):\n",
    "            item = self.items[idx]\n",
    "            # print(item)  # Uncomment for testing.\n",
    "            X[i,:,:,:] = self.data[np.int32(item[2]), :, :, :]\n",
    "\n",
    "        return X\n"
   ]
  },
  {
   "cell_type": "code",
   "execution_count": 8,
   "id": "41aa9428",
   "metadata": {
    "execution": {
     "iopub.execute_input": "2024-03-14T17:09:43.784437Z",
     "iopub.status.busy": "2024-03-14T17:09:43.784162Z",
     "iopub.status.idle": "2024-03-14T17:09:55.755359Z",
     "shell.execute_reply": "2024-03-14T17:09:55.754336Z"
    },
    "papermill": {
     "duration": 12.037888,
     "end_time": "2024-03-14T17:09:55.757680",
     "exception": false,
     "start_time": "2024-03-14T17:09:43.719792",
     "status": "completed"
    },
    "tags": []
   },
   "outputs": [
    {
     "name": "stdout",
     "output_type": "stream",
     "text": [
      "\u001b[1m12/39\u001b[0m \u001b[32m━━━━━━\u001b[0m\u001b[37m━━━━━━━━━━━━━━\u001b[0m \u001b[1m0s\u001b[0m 15ms/step"
     ]
    },
    {
     "name": "stderr",
     "output_type": "stream",
     "text": [
      "W0000 00:00:1710436195.175339      76 graph_launch.cc:671] Fallback to op-by-op mode because memset node breaks graph update\n"
     ]
    },
    {
     "name": "stdout",
     "output_type": "stream",
     "text": [
      "\u001b[1m39/39\u001b[0m \u001b[32m━━━━━━━━━━━━━━━━━━━━\u001b[0m\u001b[37m\u001b[0m \u001b[1m1s\u001b[0m 13ms/step\n"
     ]
    }
   ],
   "source": [
    "params = {\n",
    "    'batch_size': 32,\n",
    "    'n_classes': 6,\n",
    "    }\n",
    "\n",
    "test_generator = TestDataGenerator(path_test_items, path_test, **params)\n",
    "\n",
    "y_pred = model.predict(test_generator)"
   ]
  },
  {
   "cell_type": "code",
   "execution_count": 9,
   "id": "329b3295",
   "metadata": {
    "execution": {
     "iopub.execute_input": "2024-03-14T17:09:55.932454Z",
     "iopub.status.busy": "2024-03-14T17:09:55.932059Z",
     "iopub.status.idle": "2024-03-14T17:09:56.006144Z",
     "shell.execute_reply": "2024-03-14T17:09:56.005249Z"
    },
    "papermill": {
     "duration": 0.185824,
     "end_time": "2024-03-14T17:09:56.008023",
     "exception": false,
     "start_time": "2024-03-14T17:09:55.822199",
     "status": "completed"
    },
    "tags": []
   },
   "outputs": [
    {
     "data": {
      "text/plain": [
       "0.5133006242859438"
      ]
     },
     "execution_count": 9,
     "metadata": {},
     "output_type": "execute_result"
    }
   ],
   "source": [
    "TARGETS = ['seizure_vote', 'lpd_vote', 'gpd_vote', 'lrda_vote', 'grda_vote', 'other_vote']\n",
    "\n",
    "test_items = np.load(path_test_items)\n",
    "df_test_items = pd.DataFrame(test_items)\n",
    "df_test_items[0] = df_test_items[0].astype(int)\n",
    "\n",
    "sub = pd.DataFrame({'eeg_id':df_test_items[0]})\n",
    "sub[TARGETS] = np.round(y_pred,6)\n",
    "# sub.to_csv('submission.csv',index=False)\n",
    "\n",
    "df_test_scoring = df_test_items[[0,4,5,6,7,8,9]]\n",
    "df_test_scoring.columns = sub.columns\n",
    "\n",
    "score(df_test_scoring, sub, 'eeg_id')"
   ]
  },
  {
   "cell_type": "code",
   "execution_count": null,
   "id": "88ce9058",
   "metadata": {
    "papermill": {
     "duration": 0.064043,
     "end_time": "2024-03-14T17:09:56.136515",
     "exception": false,
     "start_time": "2024-03-14T17:09:56.072472",
     "status": "completed"
    },
    "tags": []
   },
   "outputs": [],
   "source": []
  }
 ],
 "metadata": {
  "kaggle": {
   "accelerator": "nvidiaTeslaT4",
   "dataSources": [
    {
     "databundleVersionId": 7469972,
     "sourceId": 59093,
     "sourceType": "competition"
    },
    {
     "datasetId": 4551183,
     "sourceId": 7777833,
     "sourceType": "datasetVersion"
    },
    {
     "datasetId": 4575023,
     "sourceId": 7811102,
     "sourceType": "datasetVersion"
    },
    {
     "datasetId": 4599043,
     "sourceId": 7844040,
     "sourceType": "datasetVersion"
    }
   ],
   "dockerImageVersionId": 30665,
   "isGpuEnabled": true,
   "isInternetEnabled": false,
   "language": "python",
   "sourceType": "notebook"
  },
  "kernelspec": {
   "display_name": "Python 3",
   "language": "python",
   "name": "python3"
  },
  "language_info": {
   "codemirror_mode": {
    "name": "ipython",
    "version": 3
   },
   "file_extension": ".py",
   "mimetype": "text/x-python",
   "name": "python",
   "nbconvert_exporter": "python",
   "pygments_lexer": "ipython3",
   "version": "3.10.12"
  },
  "papermill": {
   "default_parameters": {},
   "duration": 237.992399,
   "end_time": "2024-03-14T17:09:58.931128",
   "environment_variables": {},
   "exception": null,
   "input_path": "__notebook__.ipynb",
   "output_path": "__notebook__.ipynb",
   "parameters": {},
   "start_time": "2024-03-14T17:06:00.938729",
   "version": "2.5.0"
  }
 },
 "nbformat": 4,
 "nbformat_minor": 5
}

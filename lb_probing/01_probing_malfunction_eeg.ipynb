{
 "cells": [
  {
   "cell_type": "markdown",
   "metadata": {},
   "source": [
    "[0.167,0.167,0.167,0.167,0.166,0.166] for all -> score = 1.09\n",
    "\n",
    "Using the if statement where prediction is different if there are cells with 9999.0 in the complete EEG: score 1.49.\n",
    "\n",
    "for 10 s eegs: score 1.37\n",
    "\n",
    "Result: test set have 9999.0 cells in 50 s eegs. There are less 10 s sub eggs with 9999.0\n",
    "\n",
    "Probing if 9999.0 rows are more than 0.5 s inside the central 10 seconds: score 1.09\n",
    "\n",
    "Result: the 9999.0 rows in the 10 s samples are less than 0.5 seconds.\n"
   ]
  },
  {
   "cell_type": "code",
   "execution_count": 2,
   "metadata": {},
   "outputs": [],
   "source": [
    "import pandas as pd\n",
    "import numpy as np\n",
    "\n",
    "np.random.seed(536)\n",
    "\n",
    "base_dir = \"../../kaggle_data/hms\"\n",
    "# base_dir = pathlib.Path(\"/kaggle/input/hms-harmful-brain-activity-classification\")\n",
    "\n",
    "path_to_test_data = f'{base_dir}/test_eegs/'\n",
    "test = pd.read_csv(f'{base_dir}/test.csv')\n",
    "ids = test['eeg_id'].values"
   ]
  },
  {
   "cell_type": "code",
   "execution_count": 3,
   "metadata": {},
   "outputs": [],
   "source": [
    "y_pred = np.empty((len(ids),6),dtype=float)\n",
    "\n",
    "for i, eeg_id in enumerate(ids):\n",
    "    eeg = pd.read_parquet(f'{base_dir}/test_eegs/{eeg_id}.parquet')\n",
    "    if eeg.map(lambda x: x == 9999.0).sum().sum() > 0:\n",
    "        y_pred[i,] = np.array([1,0,0,0,0,0])\n",
    "    else:\n",
    "        y_pred[i,] = np.array([0.167,0.167,0.167,0.167,0.166,0.166])"
   ]
  },
  {
   "cell_type": "code",
   "execution_count": null,
   "metadata": {},
   "outputs": [],
   "source": [
    "TARGETS = ['seizure_vote', 'lpd_vote', 'gpd_vote', 'lrda_vote', 'grda_vote', 'other_vote']\n",
    "\n",
    "sub = pd.DataFrame({'eeg_id':test.eeg_id.values})\n",
    "sub[TARGETS] = np.round(y_pred,17)\n",
    "sub.to_csv('submission.csv',index=False)\n"
   ]
  },
  {
   "cell_type": "code",
   "execution_count": null,
   "metadata": {},
   "outputs": [],
   "source": []
  }
 ],
 "metadata": {
  "kernelspec": {
   "display_name": "gsdc",
   "language": "python",
   "name": "python3"
  },
  "language_info": {
   "codemirror_mode": {
    "name": "ipython",
    "version": 3
   },
   "file_extension": ".py",
   "mimetype": "text/x-python",
   "name": "python",
   "nbconvert_exporter": "python",
   "pygments_lexer": "ipython3",
   "version": "3.10.12"
  }
 },
 "nbformat": 4,
 "nbformat_minor": 2
}

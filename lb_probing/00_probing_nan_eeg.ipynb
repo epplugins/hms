{
 "cells": [
  {
   "cell_type": "markdown",
   "metadata": {},
   "source": [
    "\n",
    "[0.167,0.167,0.167,0.167,0.166,0.166] for all -> score = 1.09\n",
    "\n",
    "Using the if statement where prediction is different if there are NaN in the complete EEG: same score.\n",
    "\n",
    "Result: test set does not change between submissions. There are no NaN in test eegs.\n"
   ]
  },
  {
   "cell_type": "code",
   "execution_count": null,
   "metadata": {},
   "outputs": [],
   "source": [
    "import pandas as pd\n",
    "import numpy as np\n",
    "import pathlib\n",
    "import os \n",
    "\n",
    "np.random.seed(536)\n",
    "\n",
    "base_dir = pathlib.Path(\"/kaggle/input/hms-harmful-brain-activity-classification\")\n",
    "\n",
    "path_to_test_data = f'{base_dir}/test_eegs/'\n",
    "test = pd.read_csv(f'{base_dir}/test.csv')\n",
    "ids = test['eeg_id'].values"
   ]
  },
  {
   "cell_type": "code",
   "execution_count": null,
   "metadata": {},
   "outputs": [],
   "source": [
    "y_pred = np.empty((len(ids),6),dtype=float)\n",
    "\n",
    "for i, eeg_id in enumerate(ids):\n",
    "    eeg = pd.read_parquet(f'{base_dir}/test_eegs/{eeg_id}.parquet')\n",
    "    if pd.isna(eeg).any(axis=1).sum() > 0:\n",
    "        y_pred[i,] = np.array([1,0,0,0,0,0])\n",
    "    else:\n",
    "        y_pred[i,] = np.array([0.167,0.167,0.167,0.167,0.166,0.166])"
   ]
  },
  {
   "cell_type": "code",
   "execution_count": null,
   "metadata": {},
   "outputs": [],
   "source": [
    "TARGETS = ['seizure_vote', 'lpd_vote', 'gpd_vote', 'lrda_vote', 'grda_vote', 'other_vote']\n",
    "\n",
    "sub = pd.DataFrame({'eeg_id':test.eeg_id.values})\n",
    "sub[TARGETS] = np.round(y_pred,17)\n",
    "sub.to_csv('submission.csv',index=False)\n"
   ]
  }
 ],
 "metadata": {
  "language_info": {
   "name": "python"
  }
 },
 "nbformat": 4,
 "nbformat_minor": 2
}

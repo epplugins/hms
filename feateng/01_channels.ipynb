{
 "cells": [
  {
   "cell_type": "markdown",
   "metadata": {},
   "source": [
    "# Splitting spectrograms into channels\n",
    "\n",
    "Keeping only region of interest, not the whole 10 minutes."
   ]
  },
  {
   "cell_type": "code",
   "execution_count": 1,
   "metadata": {},
   "outputs": [],
   "source": [
    "import os \n",
    "import pathlib\n",
    "import numpy as np\n",
    "import pandas as pd\n",
    "import matplotlib.pyplot as plt\n",
    "\n",
    "base_dir = pathlib.Path(\"../../kaggle_data/hms\")\n",
    "# base_dir = pathlib.Path(\"../../data/hms\")\n",
    "# base_dir = pathlib.Path(\"/kaggle/input/hms-harmful-brain-activity-classification\")"
   ]
  },
  {
   "cell_type": "code",
   "execution_count": 2,
   "metadata": {},
   "outputs": [
    {
     "data": {
      "text/html": [
       "<div>\n",
       "<style scoped>\n",
       "    .dataframe tbody tr th:only-of-type {\n",
       "        vertical-align: middle;\n",
       "    }\n",
       "\n",
       "    .dataframe tbody tr th {\n",
       "        vertical-align: top;\n",
       "    }\n",
       "\n",
       "    .dataframe thead th {\n",
       "        text-align: right;\n",
       "    }\n",
       "</style>\n",
       "<table border=\"1\" class=\"dataframe\">\n",
       "  <thead>\n",
       "    <tr style=\"text-align: right;\">\n",
       "      <th></th>\n",
       "      <th>eeg_id</th>\n",
       "      <th>eeg_sub_id</th>\n",
       "      <th>eeg_label_offset_seconds</th>\n",
       "      <th>spectrogram_id</th>\n",
       "      <th>spectrogram_sub_id</th>\n",
       "      <th>spectrogram_label_offset_seconds</th>\n",
       "      <th>label_id</th>\n",
       "      <th>patient_id</th>\n",
       "      <th>expert_consensus</th>\n",
       "      <th>seizure_vote</th>\n",
       "      <th>lpd_vote</th>\n",
       "      <th>gpd_vote</th>\n",
       "      <th>lrda_vote</th>\n",
       "      <th>grda_vote</th>\n",
       "      <th>other_vote</th>\n",
       "    </tr>\n",
       "  </thead>\n",
       "  <tbody>\n",
       "    <tr>\n",
       "      <th>0</th>\n",
       "      <td>1628180742</td>\n",
       "      <td>0</td>\n",
       "      <td>0.0</td>\n",
       "      <td>353733</td>\n",
       "      <td>0</td>\n",
       "      <td>0.0</td>\n",
       "      <td>127492639</td>\n",
       "      <td>42516</td>\n",
       "      <td>Seizure</td>\n",
       "      <td>3</td>\n",
       "      <td>0</td>\n",
       "      <td>0</td>\n",
       "      <td>0</td>\n",
       "      <td>0</td>\n",
       "      <td>0</td>\n",
       "    </tr>\n",
       "    <tr>\n",
       "      <th>1</th>\n",
       "      <td>1628180742</td>\n",
       "      <td>1</td>\n",
       "      <td>6.0</td>\n",
       "      <td>353733</td>\n",
       "      <td>1</td>\n",
       "      <td>6.0</td>\n",
       "      <td>3887563113</td>\n",
       "      <td>42516</td>\n",
       "      <td>Seizure</td>\n",
       "      <td>3</td>\n",
       "      <td>0</td>\n",
       "      <td>0</td>\n",
       "      <td>0</td>\n",
       "      <td>0</td>\n",
       "      <td>0</td>\n",
       "    </tr>\n",
       "    <tr>\n",
       "      <th>2</th>\n",
       "      <td>1628180742</td>\n",
       "      <td>2</td>\n",
       "      <td>8.0</td>\n",
       "      <td>353733</td>\n",
       "      <td>2</td>\n",
       "      <td>8.0</td>\n",
       "      <td>1142670488</td>\n",
       "      <td>42516</td>\n",
       "      <td>Seizure</td>\n",
       "      <td>3</td>\n",
       "      <td>0</td>\n",
       "      <td>0</td>\n",
       "      <td>0</td>\n",
       "      <td>0</td>\n",
       "      <td>0</td>\n",
       "    </tr>\n",
       "    <tr>\n",
       "      <th>3</th>\n",
       "      <td>1628180742</td>\n",
       "      <td>3</td>\n",
       "      <td>18.0</td>\n",
       "      <td>353733</td>\n",
       "      <td>3</td>\n",
       "      <td>18.0</td>\n",
       "      <td>2718991173</td>\n",
       "      <td>42516</td>\n",
       "      <td>Seizure</td>\n",
       "      <td>3</td>\n",
       "      <td>0</td>\n",
       "      <td>0</td>\n",
       "      <td>0</td>\n",
       "      <td>0</td>\n",
       "      <td>0</td>\n",
       "    </tr>\n",
       "    <tr>\n",
       "      <th>4</th>\n",
       "      <td>1628180742</td>\n",
       "      <td>4</td>\n",
       "      <td>24.0</td>\n",
       "      <td>353733</td>\n",
       "      <td>4</td>\n",
       "      <td>24.0</td>\n",
       "      <td>3080632009</td>\n",
       "      <td>42516</td>\n",
       "      <td>Seizure</td>\n",
       "      <td>3</td>\n",
       "      <td>0</td>\n",
       "      <td>0</td>\n",
       "      <td>0</td>\n",
       "      <td>0</td>\n",
       "      <td>0</td>\n",
       "    </tr>\n",
       "  </tbody>\n",
       "</table>\n",
       "</div>"
      ],
      "text/plain": [
       "       eeg_id  eeg_sub_id  eeg_label_offset_seconds  spectrogram_id  \\\n",
       "0  1628180742           0                       0.0          353733   \n",
       "1  1628180742           1                       6.0          353733   \n",
       "2  1628180742           2                       8.0          353733   \n",
       "3  1628180742           3                      18.0          353733   \n",
       "4  1628180742           4                      24.0          353733   \n",
       "\n",
       "   spectrogram_sub_id  spectrogram_label_offset_seconds    label_id  \\\n",
       "0                   0                               0.0   127492639   \n",
       "1                   1                               6.0  3887563113   \n",
       "2                   2                               8.0  1142670488   \n",
       "3                   3                              18.0  2718991173   \n",
       "4                   4                              24.0  3080632009   \n",
       "\n",
       "   patient_id expert_consensus  seizure_vote  lpd_vote  gpd_vote  lrda_vote  \\\n",
       "0       42516          Seizure             3         0         0          0   \n",
       "1       42516          Seizure             3         0         0          0   \n",
       "2       42516          Seizure             3         0         0          0   \n",
       "3       42516          Seizure             3         0         0          0   \n",
       "4       42516          Seizure             3         0         0          0   \n",
       "\n",
       "   grda_vote  other_vote  \n",
       "0          0           0  \n",
       "1          0           0  \n",
       "2          0           0  \n",
       "3          0           0  \n",
       "4          0           0  "
      ]
     },
     "execution_count": 2,
     "metadata": {},
     "output_type": "execute_result"
    }
   ],
   "source": [
    "df_traincsv = pd.read_csv(f'{base_dir}/train.csv')\n",
    "df_traincsv.head()"
   ]
  },
  {
   "cell_type": "code",
   "execution_count": 3,
   "metadata": {},
   "outputs": [
    {
     "data": {
      "text/html": [
       "<div>\n",
       "<style scoped>\n",
       "    .dataframe tbody tr th:only-of-type {\n",
       "        vertical-align: middle;\n",
       "    }\n",
       "\n",
       "    .dataframe tbody tr th {\n",
       "        vertical-align: top;\n",
       "    }\n",
       "\n",
       "    .dataframe thead th {\n",
       "        text-align: right;\n",
       "    }\n",
       "</style>\n",
       "<table border=\"1\" class=\"dataframe\">\n",
       "  <thead>\n",
       "    <tr style=\"text-align: right;\">\n",
       "      <th></th>\n",
       "      <th>time</th>\n",
       "      <th>LL_0.59</th>\n",
       "      <th>LL_0.78</th>\n",
       "      <th>LL_0.98</th>\n",
       "      <th>LL_1.17</th>\n",
       "      <th>LL_1.37</th>\n",
       "      <th>LL_1.56</th>\n",
       "      <th>LL_1.76</th>\n",
       "      <th>LL_1.95</th>\n",
       "      <th>LL_2.15</th>\n",
       "      <th>...</th>\n",
       "      <th>RP_18.16</th>\n",
       "      <th>RP_18.36</th>\n",
       "      <th>RP_18.55</th>\n",
       "      <th>RP_18.75</th>\n",
       "      <th>RP_18.95</th>\n",
       "      <th>RP_19.14</th>\n",
       "      <th>RP_19.34</th>\n",
       "      <th>RP_19.53</th>\n",
       "      <th>RP_19.73</th>\n",
       "      <th>RP_19.92</th>\n",
       "    </tr>\n",
       "  </thead>\n",
       "  <tbody>\n",
       "    <tr>\n",
       "      <th>0</th>\n",
       "      <td>1</td>\n",
       "      <td>4.26</td>\n",
       "      <td>10.98</td>\n",
       "      <td>9.05</td>\n",
       "      <td>13.65</td>\n",
       "      <td>11.49</td>\n",
       "      <td>8.930000</td>\n",
       "      <td>18.840000</td>\n",
       "      <td>19.26</td>\n",
       "      <td>19.240000</td>\n",
       "      <td>...</td>\n",
       "      <td>0.31</td>\n",
       "      <td>0.17</td>\n",
       "      <td>0.28</td>\n",
       "      <td>0.19</td>\n",
       "      <td>0.24</td>\n",
       "      <td>0.27</td>\n",
       "      <td>0.29</td>\n",
       "      <td>0.16</td>\n",
       "      <td>0.22</td>\n",
       "      <td>0.19</td>\n",
       "    </tr>\n",
       "    <tr>\n",
       "      <th>1</th>\n",
       "      <td>3</td>\n",
       "      <td>2.65</td>\n",
       "      <td>3.97</td>\n",
       "      <td>12.18</td>\n",
       "      <td>13.26</td>\n",
       "      <td>14.21</td>\n",
       "      <td>13.230000</td>\n",
       "      <td>9.650000</td>\n",
       "      <td>8.11</td>\n",
       "      <td>11.280000</td>\n",
       "      <td>...</td>\n",
       "      <td>0.15</td>\n",
       "      <td>0.13</td>\n",
       "      <td>0.14</td>\n",
       "      <td>0.24</td>\n",
       "      <td>0.24</td>\n",
       "      <td>0.36</td>\n",
       "      <td>0.35</td>\n",
       "      <td>0.31</td>\n",
       "      <td>0.36</td>\n",
       "      <td>0.40</td>\n",
       "    </tr>\n",
       "    <tr>\n",
       "      <th>2</th>\n",
       "      <td>5</td>\n",
       "      <td>4.18</td>\n",
       "      <td>4.53</td>\n",
       "      <td>8.77</td>\n",
       "      <td>14.26</td>\n",
       "      <td>13.36</td>\n",
       "      <td>16.559999</td>\n",
       "      <td>19.219999</td>\n",
       "      <td>17.51</td>\n",
       "      <td>22.650000</td>\n",
       "      <td>...</td>\n",
       "      <td>0.29</td>\n",
       "      <td>0.21</td>\n",
       "      <td>0.16</td>\n",
       "      <td>0.25</td>\n",
       "      <td>0.28</td>\n",
       "      <td>0.28</td>\n",
       "      <td>0.34</td>\n",
       "      <td>0.48</td>\n",
       "      <td>0.44</td>\n",
       "      <td>0.48</td>\n",
       "    </tr>\n",
       "    <tr>\n",
       "      <th>3</th>\n",
       "      <td>7</td>\n",
       "      <td>2.41</td>\n",
       "      <td>3.21</td>\n",
       "      <td>4.92</td>\n",
       "      <td>8.07</td>\n",
       "      <td>5.97</td>\n",
       "      <td>12.420000</td>\n",
       "      <td>10.820000</td>\n",
       "      <td>14.96</td>\n",
       "      <td>21.809999</td>\n",
       "      <td>...</td>\n",
       "      <td>0.33</td>\n",
       "      <td>0.51</td>\n",
       "      <td>0.49</td>\n",
       "      <td>0.64</td>\n",
       "      <td>0.58</td>\n",
       "      <td>0.42</td>\n",
       "      <td>0.32</td>\n",
       "      <td>0.31</td>\n",
       "      <td>0.32</td>\n",
       "      <td>0.33</td>\n",
       "    </tr>\n",
       "    <tr>\n",
       "      <th>4</th>\n",
       "      <td>9</td>\n",
       "      <td>2.29</td>\n",
       "      <td>2.44</td>\n",
       "      <td>2.77</td>\n",
       "      <td>4.62</td>\n",
       "      <td>5.39</td>\n",
       "      <td>7.080000</td>\n",
       "      <td>9.840000</td>\n",
       "      <td>12.27</td>\n",
       "      <td>14.410000</td>\n",
       "      <td>...</td>\n",
       "      <td>0.44</td>\n",
       "      <td>0.38</td>\n",
       "      <td>0.48</td>\n",
       "      <td>0.63</td>\n",
       "      <td>0.45</td>\n",
       "      <td>0.45</td>\n",
       "      <td>0.49</td>\n",
       "      <td>0.33</td>\n",
       "      <td>0.31</td>\n",
       "      <td>0.34</td>\n",
       "    </tr>\n",
       "  </tbody>\n",
       "</table>\n",
       "<p>5 rows × 401 columns</p>\n",
       "</div>"
      ],
      "text/plain": [
       "   time  LL_0.59  LL_0.78  LL_0.98  LL_1.17  LL_1.37    LL_1.56    LL_1.76  \\\n",
       "0     1     4.26    10.98     9.05    13.65    11.49   8.930000  18.840000   \n",
       "1     3     2.65     3.97    12.18    13.26    14.21  13.230000   9.650000   \n",
       "2     5     4.18     4.53     8.77    14.26    13.36  16.559999  19.219999   \n",
       "3     7     2.41     3.21     4.92     8.07     5.97  12.420000  10.820000   \n",
       "4     9     2.29     2.44     2.77     4.62     5.39   7.080000   9.840000   \n",
       "\n",
       "   LL_1.95    LL_2.15  ...  RP_18.16  RP_18.36  RP_18.55  RP_18.75  RP_18.95  \\\n",
       "0    19.26  19.240000  ...      0.31      0.17      0.28      0.19      0.24   \n",
       "1     8.11  11.280000  ...      0.15      0.13      0.14      0.24      0.24   \n",
       "2    17.51  22.650000  ...      0.29      0.21      0.16      0.25      0.28   \n",
       "3    14.96  21.809999  ...      0.33      0.51      0.49      0.64      0.58   \n",
       "4    12.27  14.410000  ...      0.44      0.38      0.48      0.63      0.45   \n",
       "\n",
       "   RP_19.14  RP_19.34  RP_19.53  RP_19.73  RP_19.92  \n",
       "0      0.27      0.29      0.16      0.22      0.19  \n",
       "1      0.36      0.35      0.31      0.36      0.40  \n",
       "2      0.28      0.34      0.48      0.44      0.48  \n",
       "3      0.42      0.32      0.31      0.32      0.33  \n",
       "4      0.45      0.49      0.33      0.31      0.34  \n",
       "\n",
       "[5 rows x 401 columns]"
      ]
     },
     "execution_count": 3,
     "metadata": {},
     "output_type": "execute_result"
    }
   ],
   "source": [
    "spec_id = 353733\n",
    "idx = 0\n",
    "df_items = df_traincsv.loc[df_traincsv.spectrogram_id == spec_id]\n",
    "item = df_items.loc[idx]\n",
    "df_fullspec = pd.read_parquet(f'{base_dir}/train_spectrograms/{spec_id}.parquet')\n",
    "df_fullspec.replace(np.nan, 0, inplace=True)\n",
    "columns = df_fullspec.columns\n",
    "df_fullspec.head()"
   ]
  },
  {
   "cell_type": "code",
   "execution_count": 13,
   "metadata": {},
   "outputs": [
    {
     "data": {
      "text/plain": [
       "eeg_id                              1628180742\n",
       "eeg_sub_id                                   0\n",
       "eeg_label_offset_seconds                   0.0\n",
       "spectrogram_id                          353733\n",
       "spectrogram_sub_id                           0\n",
       "spectrogram_label_offset_seconds           0.0\n",
       "label_id                             127492639\n",
       "patient_id                               42516\n",
       "expert_consensus                       Seizure\n",
       "seizure_vote                                 3\n",
       "lpd_vote                                     0\n",
       "gpd_vote                                     0\n",
       "lrda_vote                                    0\n",
       "grda_vote                                    0\n",
       "other_vote                                   0\n",
       "Name: 0, dtype: object"
      ]
     },
     "execution_count": 13,
     "metadata": {},
     "output_type": "execute_result"
    }
   ],
   "source": [
    "item"
   ]
  },
  {
   "cell_type": "code",
   "execution_count": 4,
   "metadata": {},
   "outputs": [
    {
     "data": {
      "text/plain": [
       "(25, 401)"
      ]
     },
     "execution_count": 4,
     "metadata": {},
     "output_type": "execute_result"
    }
   ],
   "source": [
    "offset = item.spectrogram_label_offset_seconds\n",
    "init = offset + 275\n",
    "end = offset + 325\n",
    "spec_roi = df_fullspec.loc[(df_fullspec.time >= init)&(df_fullspec.time < end)]\n",
    "spec_roi.shape"
   ]
  },
  {
   "cell_type": "code",
   "execution_count": 10,
   "metadata": {},
   "outputs": [
    {
     "data": {
      "text/plain": [
       "array([[ 4.45,  6.26,  5.73,  6.27,  6.88,  9.83, 10.82,  9.97,  8.59,\n",
       "         3.87,  4.28,  3.32,  2.54,  2.04,  1.79,  2.75,  2.69,  2.6 ,\n",
       "         2.69,  1.83,  1.78,  2.35,  1.38,  1.79,  1.39,  1.12,  0.96,\n",
       "         1.44,  2.64,  3.29,  3.39,  3.28,  2.58,  1.56,  0.92,  0.54,\n",
       "         0.69,  0.49,  0.45,  0.47],\n",
       "       [ 7.27,  8.14, 10.4 ,  9.8 ,  7.55, 13.73, 12.13, 11.28,  9.07,\n",
       "         6.34,  2.  ,  2.17,  1.54,  1.33,  1.18,  0.91,  0.91,  1.88,\n",
       "         1.75,  1.88,  1.83,  1.38,  1.19,  1.5 ,  1.75,  1.55,  1.41,\n",
       "         1.54,  1.02,  1.44,  1.13,  0.86,  0.56,  0.5 ,  0.32,  0.32,\n",
       "         0.41,  0.53,  0.5 ,  0.54],\n",
       "       [ 4.64,  5.37,  5.95,  6.02,  6.22,  6.44,  6.83,  6.88,  5.99,\n",
       "         4.06,  4.03,  2.43,  2.26,  1.99,  1.13,  1.22,  0.96,  1.09,\n",
       "         1.67,  2.02,  3.52,  3.41,  3.25,  3.11,  2.67,  1.11,  1.15,\n",
       "         0.87,  0.6 ,  0.59,  0.56,  0.46,  0.38,  0.39,  0.5 ,  0.45,\n",
       "         0.63,  0.51,  0.39,  0.39],\n",
       "       [ 2.91,  3.89,  4.66,  5.55,  6.19,  7.2 ,  6.43,  5.19,  2.61,\n",
       "         3.07,  1.4 ,  2.  ,  2.69,  2.72,  2.57,  3.17,  2.85,  2.37,\n",
       "         1.77,  1.8 ,  2.33,  2.89,  2.66,  2.14,  1.38,  0.7 ,  0.73,\n",
       "         0.67,  0.65,  0.65,  0.6 ,  0.51,  0.45,  0.68,  0.77,  0.82,\n",
       "         0.75,  0.51,  0.3 ,  0.33],\n",
       "       [ 8.59, 13.35, 12.18, 13.32,  9.46,  7.97,  4.97,  3.71,  3.13,\n",
       "         2.2 ,  2.78,  2.84,  2.65,  2.27,  1.49,  2.73,  2.81,  2.25,\n",
       "         2.77,  1.93,  1.63,  2.39,  1.84,  2.26,  1.96,  1.76,  1.66,\n",
       "         1.39,  1.33,  1.29,  0.77,  0.69,  0.99,  0.72,  0.69,  0.57,\n",
       "         0.27,  0.26,  0.27,  0.2 ],\n",
       "       [14.3 , 17.72, 17.99, 11.86,  8.73,  7.89,  6.29,  5.92,  6.57,\n",
       "         4.19,  4.45,  3.  ,  2.76,  2.52,  2.02,  2.17,  2.22,  1.84,\n",
       "         1.76,  1.49,  0.98,  1.99,  1.88,  2.5 ,  1.82,  1.75,  1.18,\n",
       "         1.23,  0.83,  1.22,  1.12,  0.87,  0.8 ,  0.57,  0.28,  0.19,\n",
       "         0.21,  0.31,  0.31,  0.37],\n",
       "       [ 9.61, 11.  , 12.54, 11.  ,  8.07,  5.98, 11.54, 10.31, 10.87,\n",
       "        10.91,  5.59,  2.51,  2.1 ,  1.87,  1.56,  2.04,  2.34,  2.31,\n",
       "         2.22,  2.15,  1.33,  1.41,  1.52,  1.96,  2.1 ,  1.74,  1.91,\n",
       "         1.25,  0.93,  1.26,  1.36,  1.04,  0.96,  0.49,  0.46,  0.56,\n",
       "         0.52,  0.6 ,  0.43,  0.38],\n",
       "       [ 7.26,  8.26, 10.12, 11.86, 10.18,  9.78, 13.78, 10.4 , 10.33,\n",
       "         8.73,  3.92,  3.38,  2.85,  1.8 ,  1.89,  2.76,  3.14,  3.33,\n",
       "         3.02,  2.19,  1.54,  1.39,  1.49,  2.13,  1.82,  1.8 ,  1.78,\n",
       "         3.07,  2.18,  3.32,  2.85,  2.12,  1.27,  1.42,  1.  ,  0.92,\n",
       "         0.99,  0.84,  0.75,  0.52],\n",
       "       [ 6.89,  8.16,  7.69, 11.63,  7.12,  8.32,  6.81,  9.28,  7.7 ,\n",
       "         8.04,  7.19,  6.34,  3.53,  3.84,  2.16,  1.86,  2.51,  2.54,\n",
       "         3.04,  2.78,  2.53,  2.41,  2.  ,  1.8 ,  1.76,  1.59,  2.11,\n",
       "         2.16,  2.3 ,  2.44,  2.84,  3.61,  4.13,  3.53,  2.41,  1.87,\n",
       "         0.53,  0.58,  0.61,  0.63],\n",
       "       [ 3.84,  6.68,  6.46,  6.  ,  6.62,  6.75,  8.11, 11.42, 11.  ,\n",
       "         9.97,  8.93,  8.44,  5.51,  4.97,  4.19,  1.32,  1.2 ,  0.86,\n",
       "         1.45,  1.99,  1.49,  1.78,  1.5 ,  1.32,  1.44,  1.54,  1.25,\n",
       "         0.84,  1.14,  0.69,  1.15,  1.87,  2.64,  3.35,  4.08,  2.35,\n",
       "         2.48,  1.08,  0.94,  0.61],\n",
       "       [ 4.54,  5.86,  6.92,  6.55,  5.83,  3.84,  4.23,  4.87,  4.67,\n",
       "         4.31,  4.17,  2.98,  2.98,  2.98,  2.78,  1.85,  1.5 ,  1.24,\n",
       "         1.32,  1.1 ,  1.09,  1.22,  1.3 ,  1.11,  0.85,  0.54,  0.68,\n",
       "         0.65,  0.77,  0.91,  1.07,  2.18,  3.26,  3.45,  3.74,  2.93,\n",
       "         1.74,  1.11,  0.86,  0.86],\n",
       "       [ 6.54,  8.34, 10.76,  7.55,  8.06,  7.7 ,  8.3 ,  7.35,  7.84,\n",
       "         6.94,  6.19,  4.37,  3.64,  1.52,  1.43,  1.43,  1.82,  1.86,\n",
       "         1.6 ,  1.96,  1.4 ,  2.35,  2.32,  2.13,  2.42,  1.65,  1.51,\n",
       "         1.15,  1.06,  1.12,  0.8 ,  1.76,  2.7 ,  2.49,  2.87,  1.97,\n",
       "         1.2 ,  0.93,  0.86,  0.72],\n",
       "       [ 7.86,  9.3 , 10.95, 13.18, 12.04, 12.45, 12.81, 13.19, 10.15,\n",
       "         9.53,  7.99,  5.56,  2.85,  3.07,  3.71,  4.13,  4.03,  2.4 ,\n",
       "         2.85,  1.59,  1.56,  2.17,  4.11,  7.96,  7.22,  7.46,  5.78,\n",
       "         2.36,  0.7 ,  0.68,  0.76,  1.09,  1.52,  1.86,  1.56,  1.7 ,\n",
       "         1.43,  1.18,  0.84,  0.89],\n",
       "       [ 7.12, 10.2 , 10.75,  8.92,  9.43,  6.29,  6.43,  8.37,  5.97,\n",
       "         6.34,  6.12,  5.79,  6.15,  4.29,  5.44,  3.69,  5.28,  4.39,\n",
       "         5.39,  5.17,  6.61,  7.37, 12.81,  9.48,  9.23,  8.72,  4.7 ,\n",
       "         2.99,  1.93,  1.76,  1.52,  1.88,  1.73,  2.66,  2.39,  1.55,\n",
       "         1.15,  1.11,  1.06,  1.02],\n",
       "       [ 9.68,  9.8 ,  9.88,  9.64,  6.1 , 15.  , 13.92, 12.71, 12.14,\n",
       "         8.05,  5.74, 13.58, 16.06, 14.67, 17.09,  9.1 ,  8.99,  7.85,\n",
       "         8.76,  9.75,  9.17, 14.67, 17.46, 16.59, 17.09,  6.78,  3.94,\n",
       "         2.06,  2.65,  2.54,  1.77,  2.3 ,  2.38,  2.51,  2.61,  1.94,\n",
       "         0.9 ,  2.24,  2.26,  2.29],\n",
       "       [ 5.55,  8.45, 10.65,  8.06, 11.4 , 11.36, 14.87, 17.09, 13.07,\n",
       "         8.99, 19.96, 27.07, 30.69, 33.49, 24.95, 14.39, 12.68,  4.14,\n",
       "         5.69,  5.48,  3.12,  5.37, 11.73, 12.35, 13.6 , 10.31,  6.28,\n",
       "         3.27,  3.12,  3.13,  2.56,  2.28,  2.08,  2.36,  2.57,  2.85,\n",
       "         3.6 ,  4.86,  4.59,  4.06],\n",
       "       [ 2.45,  5.79,  7.69,  7.65, 11.3 , 10.04, 12.3 ,  9.48,  9.29,\n",
       "        12.66, 18.9 , 20.78, 19.73, 17.48, 11.25,  5.96,  2.8 ,  3.15,\n",
       "         4.24,  4.05,  4.47,  3.19,  2.35,  3.96,  3.53,  6.59,  5.12,\n",
       "         4.  ,  3.91,  1.82,  1.75,  2.43,  1.57,  2.33,  3.27,  3.41,\n",
       "         4.41,  4.52,  4.43,  3.75],\n",
       "       [ 6.57,  5.36,  8.37,  8.25, 13.86, 12.27, 13.78, 14.15, 11.14,\n",
       "         4.14,  4.27,  8.96,  8.05, 10.3 , 11.74,  3.76,  3.18,  3.87,\n",
       "         3.61,  3.68,  4.53,  3.28,  2.78,  3.04,  2.04,  2.09,  2.16,\n",
       "         2.57,  5.93,  5.69,  5.73,  4.41,  3.12,  3.57,  3.41,  4.05,\n",
       "         3.95,  1.95,  2.11,  1.73],\n",
       "       [12.42, 20.29, 22.1 , 18.31, 22.56, 22.38, 16.95, 17.87, 16.27,\n",
       "         6.78,  6.26,  6.3 ,  9.9 ,  9.  ,  9.72,  8.91,  6.1 ,  4.78,\n",
       "         4.18,  3.52,  2.1 ,  2.78,  1.98,  2.71,  2.33,  2.29,  1.87,\n",
       "         3.57,  3.47,  5.41,  5.13,  3.03,  4.56,  1.59,  2.7 ,  2.71,\n",
       "         1.78,  1.63,  1.62,  1.87],\n",
       "       [10.  , 15.16, 13.54, 18.93, 13.39, 13.51, 13.91, 11.5 , 12.7 ,\n",
       "        13.8 ,  9.82,  8.73,  6.34,  5.78,  5.7 ,  7.18,  7.26,  5.17,\n",
       "         3.36,  2.95,  3.24,  3.18,  3.3 ,  2.79,  3.44,  3.75,  3.86,\n",
       "         3.08,  1.6 ,  1.92,  1.72,  1.75,  1.39,  2.26,  2.38,  2.23,\n",
       "         3.36,  3.06,  2.26,  2.13],\n",
       "       [ 4.11,  8.28, 17.04, 17.38, 19.17, 16.77, 12.14,  7.83, 14.1 ,\n",
       "        12.57, 12.14, 10.39,  5.42,  3.44,  2.55,  2.41,  2.02,  2.68,\n",
       "         3.07,  4.29,  3.32,  3.63,  4.18,  3.87,  4.94,  5.46,  4.04,\n",
       "         6.46,  3.93,  3.02,  3.14,  1.59,  1.36,  1.68,  2.25,  2.75,\n",
       "         2.4 ,  2.64,  2.65,  1.18],\n",
       "       [ 4.86,  7.14, 11.61, 21.91, 22.35, 19.7 , 22.64, 12.19, 11.01,\n",
       "        10.29,  9.29,  5.62,  6.69,  3.4 ,  4.11,  2.59,  2.25,  2.91,\n",
       "         4.15,  3.74,  4.47,  3.47,  3.85,  4.08,  4.46,  3.93,  2.75,\n",
       "         2.15,  2.37,  2.05,  1.99,  2.29,  1.7 ,  1.98,  1.7 ,  1.99,\n",
       "         2.43,  2.1 ,  2.72,  2.49],\n",
       "       [ 4.16,  7.81, 12.55, 12.06, 24.44, 27.67, 27.1 , 27.24, 14.7 ,\n",
       "        12.44,  7.36,  5.38,  4.48,  4.09,  5.44,  6.72,  5.87,  6.63,\n",
       "         5.27,  4.94,  4.74,  4.49,  3.18,  3.57,  6.16,  4.74,  4.53,\n",
       "         3.7 ,  1.63,  1.41,  1.12,  1.6 ,  1.96,  2.58,  3.29,  3.09,\n",
       "         2.62,  2.82,  1.76,  2.04],\n",
       "       [14.87, 19.86, 20.53, 34.33, 34.19, 31.25, 33.13, 30.07, 17.11,\n",
       "        11.47,  6.25,  4.81,  4.35,  3.44,  5.46,  9.74,  8.35,  8.96,\n",
       "         9.01,  4.43,  4.91,  6.21,  3.32,  6.95,  4.97,  7.16,  6.95,\n",
       "         3.  ,  3.32,  2.7 ,  2.97,  3.12,  4.1 ,  2.09,  3.22,  3.43,\n",
       "         2.01,  2.13,  1.27,  1.26],\n",
       "       [28.1 , 26.37, 26.27, 19.55, 17.03, 19.12, 19.69, 16.24, 13.8 ,\n",
       "         6.56,  3.92,  4.83,  7.05,  8.72,  9.59, 10.1 ,  7.42,  7.93,\n",
       "         6.04,  5.65,  4.16,  5.31,  6.27,  6.89, 10.92,  9.13,  8.29,\n",
       "         6.73,  3.01,  3.94,  4.64,  4.12,  3.63,  4.71,  3.79,  3.76,\n",
       "         4.61,  3.43,  3.44,  3.84]], dtype=float32)"
      ]
     },
     "execution_count": 10,
     "metadata": {},
     "output_type": "execute_result"
    }
   ],
   "source": []
  },
  {
   "cell_type": "code",
   "execution_count": 5,
   "metadata": {},
   "outputs": [
    {
     "data": {
      "text/plain": [
       "<matplotlib.image.AxesImage at 0x74f7a3ce1b40>"
      ]
     },
     "execution_count": 5,
     "metadata": {},
     "output_type": "execute_result"
    },
    {
     "data": {
      "image/png": "[encoded data removed]",
      "text/plain": [
       "<Figure size 640x480 with 1 Axes>"
      ]
     },
     "metadata": {},
     "output_type": "display_data"
    }
   ],
   "source": [
    "plt.imshow(spec_roi[columns[1:41]])"
   ]
  },
  {
   "cell_type": "code",
   "execution_count": 6,
   "metadata": {},
   "outputs": [
    {
     "data": {
      "text/plain": [
       "<matplotlib.image.AxesImage at 0x74f7a251d5a0>"
      ]
     },
     "execution_count": 6,
     "metadata": {},
     "output_type": "execute_result"
    },
    {
     "data": {
      "image/png": "[encoded data removed]",
      "text/plain": [
       "<Figure size 640x480 with 1 Axes>"
      ]
     },
     "metadata": {},
     "output_type": "display_data"
    }
   ],
   "source": [
    "plt.imshow(spec_roi[columns[101:141]])\n"
   ]
  },
  {
   "cell_type": "code",
   "execution_count": 7,
   "metadata": {},
   "outputs": [
    {
     "data": {
      "text/plain": [
       "(25, 401)"
      ]
     },
     "execution_count": 7,
     "metadata": {},
     "output_type": "execute_result"
    }
   ],
   "source": [
    "spec_roi.shape"
   ]
  },
  {
   "cell_type": "code",
   "execution_count": 23,
   "metadata": {},
   "outputs": [],
   "source": [
    "n_freq = 80\n",
    "n_samples = 7\n",
    "n_channels = 4\n",
    "X = np.empty((n_samples, 25, n_freq, n_channels))\n",
    "# x = np.empty((25, n_freq))\n",
    "\n",
    "for c in np.arange(n_channels):\n",
    "    init = c * 100 + 1\n",
    "    end = init + n_freq\n",
    "    X[0,:,:,c] = spec_roi[columns[init:end]].to_numpy()\n"
   ]
  },
  {
   "cell_type": "code",
   "execution_count": 24,
   "metadata": {},
   "outputs": [
    {
     "data": {
      "text/plain": [
       "<matplotlib.image.AxesImage at 0x74f7a150df60>"
      ]
     },
     "execution_count": 24,
     "metadata": {},
     "output_type": "execute_result"
    },
    {
     "data": {
      "image/png": "[encoded data removed]",
      "text/plain": [
       "<Figure size 640x480 with 1 Axes>"
      ]
     },
     "metadata": {},
     "output_type": "display_data"
    }
   ],
   "source": [
    "plt.imshow(X[0,:,:,1])"
   ]
  },
  {
   "cell_type": "code",
   "execution_count": 25,
   "metadata": {},
   "outputs": [
    {
     "data": {
      "text/plain": [
       "<matplotlib.image.AxesImage at 0x74f7a157e920>"
      ]
     },
     "execution_count": 25,
     "metadata": {},
     "output_type": "execute_result"
    },
    {
     "data": {
      "image/png": "[encoded data removed]",
      "text/plain": [
       "<Figure size 640x480 with 1 Axes>"
      ]
     },
     "metadata": {},
     "output_type": "display_data"
    }
   ],
   "source": [
    "plt.imshow(np.log10(X[0,:,:,1]))"
   ]
  },
  {
   "cell_type": "code",
   "execution_count": null,
   "metadata": {},
   "outputs": [],
   "source": []
  }
 ],
 "metadata": {
  "kernelspec": {
   "display_name": "gsdc",
   "language": "python",
   "name": "python3"
  },
  "language_info": {
   "codemirror_mode": {
    "name": "ipython",
    "version": 3
   },
   "file_extension": ".py",
   "mimetype": "text/x-python",
   "name": "python",
   "nbconvert_exporter": "python",
   "pygments_lexer": "ipython3",
   "version": "3.10.12"
  }
 },
 "nbformat": 4,
 "nbformat_minor": 2
}

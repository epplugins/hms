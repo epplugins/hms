{
 "cells": [
  {
   "cell_type": "markdown",
   "id": "8d609841",
   "metadata": {
    "papermill": {
     "duration": 0.004772,
     "end_time": "2024-03-31T02:59:53.496973",
     "exception": false,
     "start_time": "2024-03-31T02:59:53.492201",
     "status": "completed"
    },
    "tags": []
   },
   "source": [
    "# Wavelets\n",
    "\n",
    "Reduced datasets.\n",
    "\n",
    "here are 5 parts in different datasets.\n",
    "\n",
    "Generating single numpy with cwts.  \n",
    "\n",
    "- cwt of 50 seconds eeg of each pair variable in banana montage\n",
    "- Average of cwts in each group (5 channels)\n",
    "- mean pooling, reducing by 5\n",
    "- storing 10 seconds\n",
    "\n",
    "Version 5:\n",
    "\n",
    "Generating 5 numpy files (all patient ids divided into 5 sets)  \n",
    "two classes: Other and the rest  "
   ]
  },
  {
   "cell_type": "code",
   "execution_count": 1,
   "id": "50b37ad7",
   "metadata": {
    "execution": {
     "iopub.execute_input": "2024-03-31T02:59:53.507976Z",
     "iopub.status.busy": "2024-03-31T02:59:53.507267Z",
     "iopub.status.idle": "2024-03-31T02:59:56.583753Z",
     "shell.execute_reply": "2024-03-31T02:59:56.582378Z"
    },
    "papermill": {
     "duration": 3.085469,
     "end_time": "2024-03-31T02:59:56.586725",
     "exception": false,
     "start_time": "2024-03-31T02:59:53.501256",
     "status": "completed"
    },
    "tags": []
   },
   "outputs": [
    {
     "name": "stdout",
     "output_type": "stream",
     "text": [
      "patient_ids: 1945\n"
     ]
    }
   ],
   "source": [
    "import numpy as np\n",
    "import pandas as pd\n",
    "import matplotlib.pyplot as plt\n",
    "import pywt\n",
    "from scipy.signal import sosfiltfilt, butter\n",
    "\n",
    "\n",
    "base_dir = '../../data/hms'\n",
    "\n",
    "data_dir = '../data'\n",
    "\n",
    "output_dir = '../data/'\n",
    "\n",
    "fs = 200  # Sample rate.\n",
    "\n",
    "df_traincsv = pd.read_csv(f'{base_dir}/train.csv')\n",
    "\n",
    "# Keeping sub eegs where distance is over 16 seconds.\n",
    "idxs = np.load(\"../data/03_same_distribution_idxs_all.npy\")\n",
    "df = df_traincsv.iloc[idxs].copy()\n",
    "\n",
    "df.loc[df.expert_consensus == 'Seizure', 'target'] = 0\n",
    "df.loc[df.expert_consensus == 'LPD', 'target'] = 0\n",
    "df.loc[df.expert_consensus == 'GPD', 'target'] = 0\n",
    "df.loc[df.expert_consensus == 'LRDA', 'target'] = 0\n",
    "df.loc[df.expert_consensus == 'GRDA', 'target'] = 0\n",
    "df.loc[df.expert_consensus == 'Other', 'target'] = 1\n",
    "df['target'] = df['target'].astype(int)\n",
    "\n",
    "rng = np.random.default_rng(3233)\n",
    "patient_ids = rng.permutation(np.unique(df['patient_id']))\n",
    "\n",
    "print('patient_ids:',len(patient_ids))\n"
   ]
  },
  {
   "cell_type": "markdown",
   "id": "ff43593f",
   "metadata": {
    "papermill": {
     "duration": 0.004119,
     "end_time": "2024-03-31T02:59:56.595863",
     "exception": false,
     "start_time": "2024-03-31T02:59:56.591744",
     "status": "completed"
    },
    "tags": []
   },
   "source": [
    "## <a id='toc1_'></a>[Definitions](#toc0_)"
   ]
  },
  {
   "cell_type": "code",
   "execution_count": 2,
   "id": "cfc38f3d",
   "metadata": {
    "execution": {
     "iopub.execute_input": "2024-03-31T02:59:56.606215Z",
     "iopub.status.busy": "2024-03-31T02:59:56.605833Z",
     "iopub.status.idle": "2024-03-31T02:59:56.634104Z",
     "shell.execute_reply": "2024-03-31T02:59:56.632067Z"
    },
    "papermill": {
     "duration": 0.037496,
     "end_time": "2024-03-31T02:59:56.637655",
     "exception": false,
     "start_time": "2024-03-31T02:59:56.600159",
     "status": "completed"
    },
    "tags": []
   },
   "outputs": [],
   "source": [
    "# 2024022800\n",
    "def banana(eeg_absolute, filter=False, fs=200.0):\n",
    "    '''Returns pandas dataframe with a banana montage.\n",
    "\n",
    "    filter: False or [low freq, high freq]\n",
    "    '''\n",
    "    if filter:\n",
    "        filtered_data = eeg_absolute.copy()\n",
    "        # Apply band pass.\n",
    "        sos = butter(5, filter, btype='bandpass', fs=fs, output='sos')\n",
    "        for c in filtered_data.columns:\n",
    "            filtered_data[c] = sosfiltfilt(sos, filtered_data[c])\n",
    "    else:\n",
    "        filtered_data = eeg_absolute.copy()\n",
    "\n",
    "    eeg = pd.DataFrame(data={\n",
    "        'Fp1-F7' : filtered_data.Fp1 - filtered_data.F7,\n",
    "        'Fp7-T3' : filtered_data.F7 - filtered_data.T3,\n",
    "        'T3-T5' : filtered_data.T3 - filtered_data.T5,\n",
    "        'T5-O1' : filtered_data.T5 - filtered_data.O1,\n",
    "\n",
    "        'Fp2-F8' : filtered_data.Fp2 - filtered_data.F8,\n",
    "        'F8-T4' : filtered_data.F8 - filtered_data.T4,\n",
    "        'T4-T6' : filtered_data.T4 - filtered_data.T6,\n",
    "        'T6-O2' : filtered_data.T6 - filtered_data.O2,\n",
    "\n",
    "        'Fp1-F3' : filtered_data.Fp1 - filtered_data.F3,\n",
    "        'F3-C3' : filtered_data.F3 - filtered_data.C3,\n",
    "        'C3-P3' : filtered_data.C3 - filtered_data.P3,\n",
    "        'P3-O1' : filtered_data.P3 - filtered_data.O1,\n",
    "\n",
    "        'Fp2-F4' : filtered_data.Fp2 - filtered_data.F4,\n",
    "        'F4-C4' : filtered_data.F4 - filtered_data.C4,\n",
    "        'C4-P4' : filtered_data.C4 - filtered_data.P4,\n",
    "        'P4-O2' : filtered_data.P4 - filtered_data.O2,\n",
    "\n",
    "        'Fz-Cz' : filtered_data.Fz - filtered_data.Cz,\n",
    "        'Cz-Pz' : filtered_data.Cz - filtered_data.Pz,\n",
    "\n",
    "        'EKG' : filtered_data.EKG\n",
    "        })\n",
    "    return eeg\n",
    "\n",
    "#20240304\n",
    "def asStride(arr,sub_shape,stride):\n",
    "    '''Get a strided sub-matrices view of an ndarray.\n",
    "    See also skimage.util.shape.view_as_windows()\n",
    "    '''\n",
    "    s0,s1=arr.strides[:2]\n",
    "    m1,n1=arr.shape[:2]\n",
    "    m2,n2=sub_shape\n",
    "    view_shape=(1+(m1-m2)//stride[0],1+(n1-n2)//stride[1],m2,n2)+arr.shape[2:]\n",
    "    strides=(stride[0]*s0,stride[1]*s1,s0,s1)+arr.strides[2:]\n",
    "    subs=np.lib.stride_tricks.as_strided(arr,view_shape,strides=strides)\n",
    "    return subs\n",
    "\n",
    "#20240304\n",
    "def poolingOverlap(mat,ksize,stride=None,method='max',pad=False):\n",
    "    '''Overlapping pooling on 2D or 3D data.\n",
    "\n",
    "    <mat>: ndarray, input array to pool.\n",
    "    <ksize>: tuple of 2, kernel size in (ky, kx).\n",
    "    <stride>: tuple of 2 or None, stride of pooling window.\n",
    "              If None, same as <ksize> (non-overlapping pooling).\n",
    "    <method>: str, 'max for max-pooling,\n",
    "                   'mean' for mean-pooling.\n",
    "    <pad>: bool, pad <mat> or not. If no pad, output has size\n",
    "           (n-f)//s+1, n being <mat> size, f being kernel size, s stride.\n",
    "           if pad, output has size ceil(n/s).\n",
    "\n",
    "    Return <result>: pooled matrix.\n",
    "    '''\n",
    "\n",
    "    m, n = mat.shape[:2]\n",
    "    ky,kx=ksize\n",
    "    if stride is None:\n",
    "        stride=(ky,kx)\n",
    "    sy,sx=stride\n",
    "\n",
    "    _ceil=lambda x,y: int(np.ceil(x/float(y)))\n",
    "\n",
    "    if pad:\n",
    "        ny=_ceil(m,sy)\n",
    "        nx=_ceil(n,sx)\n",
    "        size=((ny-1)*sy+ky, (nx-1)*sx+kx) + mat.shape[2:]\n",
    "        mat_pad=np.full(size,np.nan)\n",
    "        mat_pad[:m,:n,...]=mat\n",
    "    else:\n",
    "        mat_pad=mat[:(m-ky)//sy*sy+ky, :(n-kx)//sx*sx+kx, ...]\n",
    "\n",
    "    view=asStride(mat_pad,ksize,stride)\n",
    "\n",
    "    if method=='max':\n",
    "        result=np.nanmax(view,axis=(2,3))\n",
    "    else:\n",
    "        result=np.nanmean(view,axis=(2,3))\n",
    "\n",
    "    return result"
   ]
  },
  {
   "cell_type": "markdown",
   "id": "91c0d4c2",
   "metadata": {
    "papermill": {
     "duration": 0.004052,
     "end_time": "2024-03-31T02:59:56.646232",
     "exception": false,
     "start_time": "2024-03-31T02:59:56.642180",
     "status": "completed"
    },
    "tags": []
   },
   "source": [
    "## Single numpy of CWTs"
   ]
  },
  {
   "cell_type": "code",
   "execution_count": 3,
   "id": "b9eda0f4",
   "metadata": {
    "execution": {
     "iopub.execute_input": "2024-03-31T02:59:56.658966Z",
     "iopub.status.busy": "2024-03-31T02:59:56.658100Z",
     "iopub.status.idle": "2024-03-31T02:59:56.668783Z",
     "shell.execute_reply": "2024-03-31T02:59:56.666905Z"
    },
    "papermill": {
     "duration": 0.020607,
     "end_time": "2024-03-31T02:59:56.671896",
     "exception": false,
     "start_time": "2024-03-31T02:59:56.651289",
     "status": "completed"
    },
    "tags": []
   },
   "outputs": [
    {
     "data": {
      "text/plain": [
       "{'divide': 'warn', 'over': 'warn', 'under': 'ignore', 'invalid': 'warn'}"
      ]
     },
     "execution_count": 3,
     "metadata": {},
     "output_type": "execute_result"
    }
   ],
   "source": [
    "# Configure NumPy to treat warnings as exceptions\n",
    "np.seterr(all='raise')  \n",
    "# This will raise exceptions for all warnings\n"
   ]
  },
  {
   "cell_type": "code",
   "execution_count": 19,
   "id": "d1e6924d",
   "metadata": {
    "execution": {
     "iopub.execute_input": "2024-03-31T02:59:56.684738Z",
     "iopub.status.busy": "2024-03-31T02:59:56.683073Z",
     "iopub.status.idle": "2024-03-31T02:59:56.703996Z",
     "shell.execute_reply": "2024-03-31T02:59:56.702688Z"
    },
    "papermill": {
     "duration": 0.029728,
     "end_time": "2024-03-31T02:59:56.706679",
     "exception": false,
     "start_time": "2024-03-31T02:59:56.676951",
     "status": "completed"
    },
    "tags": []
   },
   "outputs": [
    {
     "data": {
      "text/plain": [
       "158"
      ]
     },
     "execution_count": 19,
     "metadata": {},
     "output_type": "execute_result"
    }
   ],
   "source": [
    "ids = patient_ids[170:175]\n",
    "df_ = df.loc[df['patient_id'].isin(ids)]\n",
    "len(df_)"
   ]
  },
  {
   "cell_type": "code",
   "execution_count": 20,
   "id": "12adec2c",
   "metadata": {
    "execution": {
     "iopub.execute_input": "2024-03-31T02:59:56.718702Z",
     "iopub.status.busy": "2024-03-31T02:59:56.718233Z",
     "iopub.status.idle": "2024-03-31T04:18:20.356269Z",
     "shell.execute_reply": "2024-03-31T04:18:20.355210Z"
    },
    "papermill": {
     "duration": 4703.647725,
     "end_time": "2024-03-31T04:18:20.359163",
     "exception": false,
     "start_time": "2024-03-31T02:59:56.711438",
     "status": "completed"
    },
    "tags": []
   },
   "outputs": [
    {
     "name": "stdout",
     "output_type": "stream",
     "text": [
      "Saving to 05_single_cwt_v3_10s_reduced_part5.npy\n",
      "Saving to 05_single_cwt_v3_10s_reduced_part5_items.npy\n"
     ]
    }
   ],
   "source": [
    "scales = np.arange(1,50)\n",
    "waveletname = 'morl'\n",
    "# train_size = len(df_train)\n",
    "# train_size = 100\n",
    "# val_size = len(df_val)\n",
    "# test_size= len(df_test)\n",
    "n_channels = 5\n",
    "dim1 = scales.shape[0]\n",
    "pool_window = 5\n",
    "dim2 = int(2000/pool_window)\n",
    "sampling_period = 1\n",
    "# Center 10 s adjusted by pooling window.\n",
    "start2 = int(4000/pool_window)\n",
    "end2 = int(6000/pool_window)\n",
    "\n",
    "sgrams = np.empty((len(df_), dim1, dim2, n_channels))\n",
    "# item: [eeg_id, eeg_sub_id, idx in sgrams (1st index), target,\n",
    "#       seizure_vote, lpd_vote, gpd_vote, lrda_vote,\n",
    "#       grda_vote, other_vote]\n",
    "items = np.array([], dtype=float).reshape(0,10)\n",
    "i = 0\n",
    "\n",
    "for j in range(len(df_)):\n",
    "    if j % 20 == 0:\n",
    "        print(f'{i} eegs loaded', end='\\r')\n",
    "    item = df_.iloc[j]\n",
    "    eeg_full = pd.read_parquet(f'{base_dir}/train_eegs/{item.eeg_id}.parquet')\n",
    "    # 50 second eeg sub sample\n",
    "    offset = int(item.eeg_label_offset_seconds)\n",
    "    start = offset * fs\n",
    "#     start = (offset + 20) * fs\n",
    "    end = (offset + 50) * fs\n",
    "#     end = (offset + 30) * fs\n",
    "    eeg_absolute = eeg_full[start:end]\n",
    "    eeg_absolute = eeg_absolute.interpolate(limit_direction='both') # <<<<< Interpolation\n",
    "    eeg = banana(eeg_absolute, filter=False)\n",
    "    # X = np.empty((1, dim1, dim2, n_channels))\n",
    "    # Averaging each chain in the banana montage.\n",
    "\n",
    "    # Left temporal chain.\n",
    "    coeff = np.zeros((dim1, 10000))\n",
    "    for col in [0,1,2,3]:\n",
    "        coeff_, freq = pywt.cwt(eeg.iloc[:,col], scales, waveletname, sampling_period=sampling_period)\n",
    "        coeff = coeff + coeff_\n",
    "\n",
    "    coeff = coeff/4\n",
    "    coeff = poolingOverlap(coeff,(1,pool_window),stride=None,method='mean',pad=False)\n",
    "    \n",
    "    try:\n",
    "    # Code that might trigger a NumPy warning\n",
    "    # Some observations are not suitable for this analysis. \n",
    "    # I'm removing them from the indexes list.\n",
    "        coeff_ = coeff[:,start2:end2].copy()\n",
    "        coeff_ = (coeff_ - np.mean(coeff_)) / np.std(coeff_)\n",
    "    except Warning as e:\n",
    "        # other_items.append(eeg_id)\n",
    "        continue\n",
    "    except Exception as e:\n",
    "        # other_items.append(eeg_id)\n",
    "        continue\n",
    "    \n",
    "    sgrams[i,:,:,0] = coeff[:,start2:end2].copy()\n",
    "\n",
    "    # Right temporal chain.\n",
    "    coeff = np.zeros((dim1, 10000))\n",
    "    for col in [4,5,6,7]:\n",
    "        coeff_, freq = pywt.cwt(eeg.iloc[:,col], scales, waveletname, sampling_period=sampling_period)\n",
    "        coeff = coeff + coeff_\n",
    "\n",
    "    coeff = coeff/4\n",
    "    coeff = poolingOverlap(coeff,(1,pool_window),stride=None,method='mean',pad=False)\n",
    "    coeff = (coeff - np.mean(coeff)) / np.std(coeff)\n",
    "    sgrams[i,:,:,1] = coeff[:,start2:end2].copy()\n",
    "\n",
    "    # Left parasagittal chain.\n",
    "    coeff = np.zeros((dim1, 10000))\n",
    "    for col in [8,9,10,11]:\n",
    "        coeff_, freq = pywt.cwt(eeg.iloc[:,col], scales, waveletname, sampling_period=sampling_period)\n",
    "        coeff = coeff + coeff_\n",
    "\n",
    "    coeff = coeff/4\n",
    "    coeff = poolingOverlap(coeff,(1,pool_window),stride=None,method='mean',pad=False)\n",
    "    coeff = (coeff - np.mean(coeff)) / np.std(coeff)\n",
    "    sgrams[i,:,:,2] = coeff[:,start2:end2].copy()\n",
    "\n",
    "    # Right parasagittal chain.\n",
    "    coeff = np.zeros((dim1, 10000))\n",
    "    for col in [12,13,14,15]:\n",
    "        coeff_, freq = pywt.cwt(eeg.iloc[:,col], scales, waveletname, sampling_period=sampling_period)\n",
    "        coeff = coeff + coeff_\n",
    "\n",
    "    coeff = coeff/4\n",
    "    coeff = poolingOverlap(coeff,(1,pool_window),stride=None,method='mean',pad=False)\n",
    "    coeff = (coeff - np.mean(coeff)) / np.std(coeff)\n",
    "    sgrams[i,:,:,3] = coeff[:,start2:end2].copy()\n",
    "\n",
    "    # Central chain.\n",
    "    coeff = np.zeros((dim1, 10000))\n",
    "    for col in [16,17]:\n",
    "        coeff_, freq = pywt.cwt(eeg.iloc[:,col], scales, waveletname, sampling_period=sampling_period)\n",
    "        coeff = coeff + coeff_\n",
    "\n",
    "    coeff = coeff/2\n",
    "    coeff = poolingOverlap(coeff,(1,pool_window),stride=None,method='mean',pad=False)\n",
    "    coeff = (coeff - np.mean(coeff)) / np.std(coeff)\n",
    "    sgrams[i,:,:,4] = coeff[:,start2:end2].copy()\n",
    "\n",
    "    xitem = np.array([item.eeg_id, item.eeg_sub_id, i, item.target,\n",
    "                    item.seizure_vote, item.lpd_vote, item.gpd_vote,\n",
    "                    item.lrda_vote, item.grda_vote, item.other_vote],\n",
    "                    dtype=float).reshape(1,10)\n",
    "    items = np.concatenate([items, xitem])\n",
    "    \n",
    "    i = i + 1\n",
    "\n",
    "filename = '05_single_cwt_v3_10s_reduced_part5'     \n",
    "print(f'Saving to {filename}.npy')\n",
    "print(f'Saving to {filename}_items.npy')\n",
    "np.save(f'{output_dir}{filename}.npy', sgrams[0:i])\n",
    "np.save(f'{output_dir}{filename}_items.npy', items[0:i])\n",
    "\n"
   ]
  },
  {
   "cell_type": "code",
   "execution_count": null,
   "id": "53bcb630",
   "metadata": {
    "papermill": {
     "duration": 0.006021,
     "end_time": "2024-03-31T04:18:20.386050",
     "exception": false,
     "start_time": "2024-03-31T04:18:20.380029",
     "status": "completed"
    },
    "tags": []
   },
   "outputs": [],
   "source": []
  }
 ],
 "metadata": {
  "kaggle": {
   "accelerator": "none",
   "dataSources": [
    {
     "databundleVersionId": 7469972,
     "sourceId": 59093,
     "sourceType": "competition"
    },
    {
     "datasetId": 4701086,
     "sourceId": 7986337,
     "sourceType": "datasetVersion"
    }
   ],
   "dockerImageVersionId": 30665,
   "isGpuEnabled": false,
   "isInternetEnabled": false,
   "language": "python",
   "sourceType": "notebook"
  },
  "kernelspec": {
   "display_name": "Python 3",
   "language": "python",
   "name": "python3"
  },
  "language_info": {
   "codemirror_mode": {
    "name": "ipython",
    "version": 3
   },
   "file_extension": ".py",
   "mimetype": "text/x-python",
   "name": "python",
   "nbconvert_exporter": "python",
   "pygments_lexer": "ipython3",
   "version": "3.10.12"
  },
  "papermill": {
   "default_parameters": {},
   "duration": 4710.993588,
   "end_time": "2024-03-31T04:18:21.194689",
   "environment_variables": {},
   "exception": null,
   "input_path": "__notebook__.ipynb",
   "output_path": "__notebook__.ipynb",
   "parameters": {},
   "start_time": "2024-03-31T02:59:50.201101",
   "version": "2.5.0"
  }
 },
 "nbformat": 4,
 "nbformat_minor": 5
}

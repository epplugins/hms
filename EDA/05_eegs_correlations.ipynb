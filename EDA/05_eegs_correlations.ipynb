{
 "cells": [
  {
   "cell_type": "markdown",
   "metadata": {},
   "source": [
    "# EEGs: correlations\n",
    "\n",
    "Considering only unanimous consensus.\n",
    "\n",
    "- Multiple plots for visual inspection.\n",
    "- Determine correlations between electrodes."
   ]
  },
  {
   "cell_type": "code",
   "execution_count": 12,
   "metadata": {},
   "outputs": [
    {
     "name": "stdout",
     "output_type": "stream",
     "text": [
      "83893\n"
     ]
    }
   ],
   "source": [
    "import matplotlib.pyplot as plt\n",
    "import numpy as np\n",
    "import pandas as pd\n",
    "from scipy.signal import sosfiltfilt, butter\n",
    "\n",
    "# base_dir = \"../../kaggle_data/hms\"\n",
    "base_dir = \"../../data/hms\"\n",
    "# base_dir = \"/kaggle/input/hms-harmful-brain-activity-classification\"\n",
    "\n",
    "fs = 200  # Sample rate.\n",
    "\n",
    "df_traincsv = pd.read_csv(f'{base_dir}/train.csv')\n",
    "df_traincsv.head()\n",
    "\n",
    "# Indices of sub eegs where:\n",
    "# 2 or less NaN rows in 50 s sample (to interpolate).\n",
    "# No change of votes in the different sub eegs for the same eeg_id.\n",
    "#\n",
    "idxs = np.load(\"../data/02_idx_constant_votes.npy\")\n",
    "\n",
    "df = df_traincsv.iloc[idxs]\n",
    "print(len(df))"
   ]
  },
  {
   "cell_type": "code",
   "execution_count": 13,
   "metadata": {},
   "outputs": [],
   "source": [
    "def banana(eeg_absolute):\n",
    "    '''Returns pandas dataframe with a banana montage.\n",
    "    '''\n",
    "    # Filtering between 8 Hz and 30 Hz.\n",
    "    sos = butter(5, [8,30], btype='bandpass', fs=fs, output='sos')\n",
    "    filtered_data = sosfiltfilt(sos, eeg_absolute)\n",
    "\n",
    "    eeg = pd.DataFrame(data={\n",
    "        'Fp1-F7' : filtered_data.Fp1 - filtered_data.F7,\n",
    "        'Fp7-T3' : filtered_data.F7 - filtered_data.T3,\n",
    "        'T3-T5' : filtered_data.T3 - filtered_data.T5,\n",
    "        'T5-O1' : filtered_data.T5 - filtered_data.O1,\n",
    "\n",
    "        'Fp2-F8' : filtered_data.Fp2 - filtered_data.F8,\n",
    "        'F8-T4' : filtered_data.F8 - filtered_data.T4,\n",
    "        'T4-T6' : filtered_data.T4 - filtered_data.T6,\n",
    "        'T6-O2' : filtered_data.T6 - filtered_data.O2,\n",
    "\n",
    "        'Fp1-F3' : filtered_data.Fp1 - filtered_data.F3,\n",
    "        'F3-C3' : filtered_data.F3 - filtered_data.C3,\n",
    "        'C3-P3' : filtered_data.C3 - filtered_data.P3,\n",
    "        'P3-O1' : filtered_data.P3 - filtered_data.O1,\n",
    "\n",
    "        'Fp2-F4' : filtered_data.Fp2 - filtered_data.F4,\n",
    "        'F4-C4' : filtered_data.F4 - filtered_data.C4,\n",
    "        'C4-P4' : filtered_data.C4 - filtered_data.P4,\n",
    "        'P4-O2' : filtered_data.P4 - filtered_data.O2,\n",
    "\n",
    "        'Fz-Cz' : filtered_data.Fz - filtered_data.Cz,\n",
    "        'Cz-Pz' : filtered_data.Cz - filtered_data.Pz,\n",
    "\n",
    "        'EKG' : filtered_data.EKG\n",
    "        })\n",
    "    return eeg"
   ]
  },
  {
   "cell_type": "markdown",
   "metadata": {},
   "source": [
    "## Creation of various graphs\n"
   ]
  },
  {
   "cell_type": "code",
   "execution_count": 3,
   "metadata": {},
   "outputs": [
    {
     "data": {
      "text/html": [
       "<div>\n",
       "<style scoped>\n",
       "    .dataframe tbody tr th:only-of-type {\n",
       "        vertical-align: middle;\n",
       "    }\n",
       "\n",
       "    .dataframe tbody tr th {\n",
       "        vertical-align: top;\n",
       "    }\n",
       "\n",
       "    .dataframe thead th {\n",
       "        text-align: right;\n",
       "    }\n",
       "</style>\n",
       "<table border=\"1\" class=\"dataframe\">\n",
       "  <thead>\n",
       "    <tr style=\"text-align: right;\">\n",
       "      <th></th>\n",
       "      <th>eeg_id</th>\n",
       "      <th>vote</th>\n",
       "      <th>qty_sub_ids</th>\n",
       "    </tr>\n",
       "  </thead>\n",
       "  <tbody>\n",
       "    <tr>\n",
       "      <th>0</th>\n",
       "      <td>568657</td>\n",
       "      <td>Other</td>\n",
       "      <td>4</td>\n",
       "    </tr>\n",
       "    <tr>\n",
       "      <th>1</th>\n",
       "      <td>582999</td>\n",
       "      <td>LPD</td>\n",
       "      <td>11</td>\n",
       "    </tr>\n",
       "    <tr>\n",
       "      <th>2</th>\n",
       "      <td>642382</td>\n",
       "      <td>Other</td>\n",
       "      <td>2</td>\n",
       "    </tr>\n",
       "    <tr>\n",
       "      <th>3</th>\n",
       "      <td>751790</td>\n",
       "      <td>GPD</td>\n",
       "      <td>1</td>\n",
       "    </tr>\n",
       "    <tr>\n",
       "      <th>4</th>\n",
       "      <td>778705</td>\n",
       "      <td>Other</td>\n",
       "      <td>1</td>\n",
       "    </tr>\n",
       "    <tr>\n",
       "      <th>...</th>\n",
       "      <td>...</td>\n",
       "      <td>...</td>\n",
       "      <td>...</td>\n",
       "    </tr>\n",
       "    <tr>\n",
       "      <th>15456</th>\n",
       "      <td>4293354003</td>\n",
       "      <td>GRDA</td>\n",
       "      <td>1</td>\n",
       "    </tr>\n",
       "    <tr>\n",
       "      <th>15457</th>\n",
       "      <td>4293843368</td>\n",
       "      <td>GRDA</td>\n",
       "      <td>1</td>\n",
       "    </tr>\n",
       "    <tr>\n",
       "      <th>15458</th>\n",
       "      <td>4294455489</td>\n",
       "      <td>Other</td>\n",
       "      <td>1</td>\n",
       "    </tr>\n",
       "    <tr>\n",
       "      <th>15459</th>\n",
       "      <td>4294858825</td>\n",
       "      <td>Other</td>\n",
       "      <td>5</td>\n",
       "    </tr>\n",
       "    <tr>\n",
       "      <th>15460</th>\n",
       "      <td>4294958358</td>\n",
       "      <td>Other</td>\n",
       "      <td>1</td>\n",
       "    </tr>\n",
       "  </tbody>\n",
       "</table>\n",
       "<p>15461 rows × 3 columns</p>\n",
       "</div>"
      ],
      "text/plain": [
       "           eeg_id   vote  qty_sub_ids\n",
       "0          568657  Other            4\n",
       "1          582999    LPD           11\n",
       "2          642382  Other            2\n",
       "3          751790    GPD            1\n",
       "4          778705  Other            1\n",
       "...           ...    ...          ...\n",
       "15456  4293354003   GRDA            1\n",
       "15457  4293843368   GRDA            1\n",
       "15458  4294455489  Other            1\n",
       "15459  4294858825  Other            5\n",
       "15460  4294958358  Other            1\n",
       "\n",
       "[15461 rows x 3 columns]"
      ]
     },
     "execution_count": 3,
     "metadata": {},
     "output_type": "execute_result"
    }
   ],
   "source": [
    "eeg_ids = np.unique(df['eeg_id'].values)\n",
    "\n",
    "vote = np.array([])\n",
    "qty_sub_ids = np.array([], dtype=int)\n",
    "for eeg_id in eeg_ids:\n",
    "    items = df.loc[df.eeg_id==eeg_id]\n",
    "    vote = np.append(vote, items.iloc[0].expert_consensus)\n",
    "    qty_sub_ids = np.append(qty_sub_ids, len(items))\n",
    "d = {\n",
    "    'eeg_id' : eeg_ids,\n",
    "    'vote' : vote,\n",
    "    'qty_sub_ids' : qty_sub_ids\n",
    "}\n",
    "df_vote = pd.DataFrame(data=d)\n",
    "df_vote"
   ]
  },
  {
   "cell_type": "markdown",
   "metadata": {},
   "source": [
    "Search for the longest running eegs: "
   ]
  },
  {
   "cell_type": "code",
   "execution_count": 4,
   "metadata": {},
   "outputs": [
    {
     "data": {
      "text/html": [
       "<div>\n",
       "<style scoped>\n",
       "    .dataframe tbody tr th:only-of-type {\n",
       "        vertical-align: middle;\n",
       "    }\n",
       "\n",
       "    .dataframe tbody tr th {\n",
       "        vertical-align: top;\n",
       "    }\n",
       "\n",
       "    .dataframe thead th {\n",
       "        text-align: right;\n",
       "    }\n",
       "</style>\n",
       "<table border=\"1\" class=\"dataframe\">\n",
       "  <thead>\n",
       "    <tr style=\"text-align: right;\">\n",
       "      <th></th>\n",
       "      <th>eeg_id</th>\n",
       "      <th>vote</th>\n",
       "      <th>qty_sub_ids</th>\n",
       "    </tr>\n",
       "  </thead>\n",
       "  <tbody>\n",
       "    <tr>\n",
       "      <th>6012</th>\n",
       "      <td>1654580421</td>\n",
       "      <td>GRDA</td>\n",
       "      <td>61</td>\n",
       "    </tr>\n",
       "    <tr>\n",
       "      <th>12240</th>\n",
       "      <td>3394076749</td>\n",
       "      <td>GRDA</td>\n",
       "      <td>61</td>\n",
       "    </tr>\n",
       "    <tr>\n",
       "      <th>12913</th>\n",
       "      <td>3575372862</td>\n",
       "      <td>GRDA</td>\n",
       "      <td>61</td>\n",
       "    </tr>\n",
       "    <tr>\n",
       "      <th>13772</th>\n",
       "      <td>3825216091</td>\n",
       "      <td>GPD</td>\n",
       "      <td>61</td>\n",
       "    </tr>\n",
       "    <tr>\n",
       "      <th>12244</th>\n",
       "      <td>3395187963</td>\n",
       "      <td>GPD</td>\n",
       "      <td>62</td>\n",
       "    </tr>\n",
       "    <tr>\n",
       "      <th>...</th>\n",
       "      <td>...</td>\n",
       "      <td>...</td>\n",
       "      <td>...</td>\n",
       "    </tr>\n",
       "    <tr>\n",
       "      <th>6229</th>\n",
       "      <td>1712056492</td>\n",
       "      <td>LRDA</td>\n",
       "      <td>433</td>\n",
       "    </tr>\n",
       "    <tr>\n",
       "      <th>1867</th>\n",
       "      <td>525664301</td>\n",
       "      <td>LRDA</td>\n",
       "      <td>531</td>\n",
       "    </tr>\n",
       "    <tr>\n",
       "      <th>5951</th>\n",
       "      <td>1641054670</td>\n",
       "      <td>GPD</td>\n",
       "      <td>562</td>\n",
       "    </tr>\n",
       "    <tr>\n",
       "      <th>8810</th>\n",
       "      <td>2428433259</td>\n",
       "      <td>GRDA</td>\n",
       "      <td>664</td>\n",
       "    </tr>\n",
       "    <tr>\n",
       "      <th>8150</th>\n",
       "      <td>2259539799</td>\n",
       "      <td>GPD</td>\n",
       "      <td>743</td>\n",
       "    </tr>\n",
       "  </tbody>\n",
       "</table>\n",
       "<p>100 rows × 3 columns</p>\n",
       "</div>"
      ],
      "text/plain": [
       "           eeg_id  vote  qty_sub_ids\n",
       "6012   1654580421  GRDA           61\n",
       "12240  3394076749  GRDA           61\n",
       "12913  3575372862  GRDA           61\n",
       "13772  3825216091   GPD           61\n",
       "12244  3395187963   GPD           62\n",
       "...           ...   ...          ...\n",
       "6229   1712056492  LRDA          433\n",
       "1867    525664301  LRDA          531\n",
       "5951   1641054670   GPD          562\n",
       "8810   2428433259  GRDA          664\n",
       "8150   2259539799   GPD          743\n",
       "\n",
       "[100 rows x 3 columns]"
      ]
     },
     "execution_count": 4,
     "metadata": {},
     "output_type": "execute_result"
    }
   ],
   "source": [
    "df_vote.sort_values(by='qty_sub_ids')[-100:]"
   ]
  },
  {
   "cell_type": "code",
   "execution_count": 5,
   "metadata": {},
   "outputs": [
    {
     "data": {
      "text/plain": [
       "vote\n",
       "GPD      7\n",
       "GRDA     4\n",
       "LRDA     8\n",
       "Other    1\n",
       "dtype: int64"
      ]
     },
     "execution_count": 5,
     "metadata": {},
     "output_type": "execute_result"
    }
   ],
   "source": [
    "df_vote.sort_values(by='qty_sub_ids')[-20:].groupby(by='vote').size()\n"
   ]
  },
  {
   "cell_type": "code",
   "execution_count": 6,
   "metadata": {},
   "outputs": [
    {
     "data": {
      "text/plain": [
       "vote\n",
       "GPD        33\n",
       "GRDA       57\n",
       "LPD         1\n",
       "LRDA       55\n",
       "Other       1\n",
       "Seizure     3\n",
       "dtype: int64"
      ]
     },
     "execution_count": 6,
     "metadata": {},
     "output_type": "execute_result"
    }
   ],
   "source": [
    "df_vote.sort_values(by='qty_sub_ids')[-150:].groupby(by='vote').size()"
   ]
  },
  {
   "cell_type": "markdown",
   "metadata": {},
   "source": [
    "<div class=\"alert alert-block alert-info\">&rdsh; The longest running eegs (the ones with lots of sub eegs) are GPD, GRDA and LRDA.</div>\n"
   ]
  },
  {
   "cell_type": "code",
   "execution_count": 7,
   "metadata": {},
   "outputs": [
    {
     "data": {
      "text/html": [
       "<div>\n",
       "<style scoped>\n",
       "    .dataframe tbody tr th:only-of-type {\n",
       "        vertical-align: middle;\n",
       "    }\n",
       "\n",
       "    .dataframe tbody tr th {\n",
       "        vertical-align: top;\n",
       "    }\n",
       "\n",
       "    .dataframe thead th {\n",
       "        text-align: right;\n",
       "    }\n",
       "</style>\n",
       "<table border=\"1\" class=\"dataframe\">\n",
       "  <thead>\n",
       "    <tr style=\"text-align: right;\">\n",
       "      <th></th>\n",
       "      <th>eeg_id</th>\n",
       "      <th>qty_sub_ids</th>\n",
       "    </tr>\n",
       "    <tr>\n",
       "      <th>vote</th>\n",
       "      <th></th>\n",
       "      <th></th>\n",
       "    </tr>\n",
       "  </thead>\n",
       "  <tbody>\n",
       "    <tr>\n",
       "      <th>GPD</th>\n",
       "      <td>4007115462</td>\n",
       "      <td>743</td>\n",
       "    </tr>\n",
       "    <tr>\n",
       "      <th>GRDA</th>\n",
       "      <td>4203450228</td>\n",
       "      <td>664</td>\n",
       "    </tr>\n",
       "    <tr>\n",
       "      <th>LPD</th>\n",
       "      <td>699093875</td>\n",
       "      <td>88</td>\n",
       "    </tr>\n",
       "    <tr>\n",
       "      <th>LRDA</th>\n",
       "      <td>4044323427</td>\n",
       "      <td>531</td>\n",
       "    </tr>\n",
       "    <tr>\n",
       "      <th>Other</th>\n",
       "      <td>3123865097</td>\n",
       "      <td>206</td>\n",
       "    </tr>\n",
       "    <tr>\n",
       "      <th>Seizure</th>\n",
       "      <td>4098737417</td>\n",
       "      <td>73</td>\n",
       "    </tr>\n",
       "  </tbody>\n",
       "</table>\n",
       "</div>"
      ],
      "text/plain": [
       "             eeg_id  qty_sub_ids\n",
       "vote                            \n",
       "GPD      4007115462          743\n",
       "GRDA     4203450228          664\n",
       "LPD       699093875           88\n",
       "LRDA     4044323427          531\n",
       "Other    3123865097          206\n",
       "Seizure  4098737417           73"
      ]
     },
     "execution_count": 7,
     "metadata": {},
     "output_type": "execute_result"
    }
   ],
   "source": [
    "df_vote.sort_values(by='qty_sub_ids')[-150:].groupby(by='vote').max()"
   ]
  },
  {
   "cell_type": "code",
   "execution_count": 8,
   "metadata": {},
   "outputs": [],
   "source": [
    "def plot_eeg(ax, eeg, title, sep):\n",
    "    srate = 200 # Sample rate.\n",
    "    nx = eeg.shape[0]\n",
    "    totaltime = nx/srate\n",
    "    X, Y = np.linspace(0, totaltime, nx), np.zeros(nx)\n",
    "    yticklabels = eeg.columns[::-1]  # Reversed.\n",
    "\n",
    "    for i, label in enumerate(yticklabels):\n",
    "        Y = eeg[label]\n",
    "        ax.plot(X, Y + (i * sep), linewidth=0.5, color='black')\n",
    "\n",
    "    ax.set_title(title)\n",
    "    ax.set(ylim=(-0.5*sep, (len(yticklabels)-0.5)*sep),\n",
    "           yticks=np.arange(len(yticklabels))*sep,\n",
    "           yticklabels=yticklabels)\n",
    "    ax.set_xlabel('time [s]')"
   ]
  },
  {
   "cell_type": "markdown",
   "metadata": {},
   "source": [
    "Generating plots of eegs with over 20 sub eegs. Only 5 plots in each eeg, distributed uniformly."
   ]
  },
  {
   "cell_type": "code",
   "execution_count": 11,
   "metadata": {},
   "outputs": [],
   "source": [
    "#\n",
    "# ref_all\n",
    "#\n",
    "\n",
    "n = 3  # eegs\n",
    "N = 5  # sub eegs\n",
    "\n",
    "# Not including 'Other' because theere too few longer than 15.\n",
    "votes = ['LPD', 'GPD', 'Seizure', 'GRDA', 'LRDA']\n",
    "for vote in votes:\n",
    "    _eeg_ids = df_vote.loc[(df_vote.vote == vote) & (df_vote.qty_sub_ids > 20), 'eeg_id'].sample(n).values\n",
    "    for eeg_id in _eeg_ids:\n",
    "        eeg_absolute = pd.read_parquet(f'{base_dir}/train_eegs/{eeg_id}.parquet')\n",
    "        eeg_absolute = eeg_absolute.interpolate(limit_direction='both') # <<<<< Interpolation\n",
    "        eeg = banana(eeg_absolute)\n",
    "        items = df.loc[df.eeg_id == eeg_id]\n",
    "        chunks = int(len(items)/N)\n",
    "\n",
    "        for i in np.arange(chunks):\n",
    "          item = items.iloc[i*N]\n",
    "          subid = item.eeg_sub_id\n",
    "          offset = int(item.eeg_label_offset_seconds)\n",
    "          start = (offset + 20) * fs\n",
    "          end = (offset + 30) * fs\n",
    "          eeg_sub_10 = eeg[start:end]\n",
    "          fig, ax = plt.subplots(1, 1, figsize=(10, 15))\n",
    "          plot_eeg(ax, eeg_sub_10, title='10 seconds sample - eeg: ' + str(item.eeg_id)\n",
    "            + '/' + str(item.eeg_sub_id) + ' ' + item.expert_consensus, sep = 400)\n",
    "\n",
    "          plt.tight_layout()\n",
    "          plt.savefig(f'../results/05_plots/ref_all_{vote}_{eeg_id}_{subid}.png')\n",
    "          plt.close()"
   ]
  },
  {
   "cell_type": "code",
   "execution_count": 17,
   "metadata": {},
   "outputs": [],
   "source": [
    "# This eeg has very high values.\n",
    "\n",
    "eeg_id = 320837057\n",
    "eeg = pd.read_parquet(f'{base_dir}/train_eegs/{eeg_id}.parquet')\n"
   ]
  },
  {
   "cell_type": "code",
   "execution_count": 21,
   "metadata": {},
   "outputs": [
    {
     "data": {
      "text/plain": [
       "eeg_id                               320837057\n",
       "eeg_sub_id                                  55\n",
       "eeg_label_offset_seconds                 266.0\n",
       "spectrogram_id                       109868772\n",
       "spectrogram_sub_id                          55\n",
       "spectrogram_label_offset_seconds         266.0\n",
       "label_id                            3085135040\n",
       "patient_id                               55803\n",
       "expert_consensus                          GRDA\n",
       "seizure_vote                                 0\n",
       "lpd_vote                                     0\n",
       "gpd_vote                                     0\n",
       "lrda_vote                                    0\n",
       "grda_vote                                    3\n",
       "other_vote                                   0\n",
       "Name: 6023, dtype: object"
      ]
     },
     "execution_count": 21,
     "metadata": {},
     "output_type": "execute_result"
    }
   ],
   "source": [
    "df.loc[df.eeg_id == 320837057].iloc[55]"
   ]
  },
  {
   "cell_type": "code",
   "execution_count": 23,
   "metadata": {},
   "outputs": [
    {
     "data": {
      "text/plain": [
       "Fp1    694.260010\n",
       "F3     683.200012\n",
       "C3     682.770020\n",
       "P3     680.159973\n",
       "F7     689.140015\n",
       "T3     701.289978\n",
       "T5     697.960022\n",
       "O1     706.770020\n",
       "Fz     311.399994\n",
       "Cz     676.789978\n",
       "Pz     619.770020\n",
       "Fp2    676.809998\n",
       "F4     657.280029\n",
       "C4     675.460022\n",
       "P4     660.570007\n",
       "F8     620.219971\n",
       "T4     681.580017\n",
       "T6     684.960022\n",
       "O2     675.450012\n",
       "EKG    497.380005\n",
       "dtype: float32"
      ]
     },
     "execution_count": 23,
     "metadata": {},
     "output_type": "execute_result"
    }
   ],
   "source": [
    "eeg[286*200:296*200].max()"
   ]
  },
  {
   "cell_type": "code",
   "execution_count": null,
   "metadata": {},
   "outputs": [],
   "source": []
  }
 ],
 "metadata": {
  "kernelspec": {
   "display_name": "gsdc",
   "language": "python",
   "name": "python3"
  },
  "language_info": {
   "codemirror_mode": {
    "name": "ipython",
    "version": 3
   },
   "file_extension": ".py",
   "mimetype": "text/x-python",
   "name": "python",
   "nbconvert_exporter": "python",
   "pygments_lexer": "ipython3",
   "version": "3.10.12"
  }
 },
 "nbformat": 4,
 "nbformat_minor": 2
}
